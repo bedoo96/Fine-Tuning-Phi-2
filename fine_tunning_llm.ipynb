{
 "cells": [
  {
   "cell_type": "code",
   "execution_count": 1,
   "metadata": {
    "id": "Ep970f1OqkDb"
   },
   "outputs": [],
   "source": [
    "# ! pip install pyarrow==14.0.1\n",
    "# ! pip install cudf-cu12\n",
    "# ! pip install ibis-framework\n",
    "# ! pip install -q -U jsonlines datasets transformers accelerate peft bitsandbytes wandb"
   ]
  },
  {
   "cell_type": "code",
   "execution_count": null,
   "metadata": {
    "id": "NLPUiDf-o7US"
   },
   "outputs": [],
   "source": [
    "import jsonlines\n",
    "import itertools\n",
    "import pandas as pd\n",
    "import numpy as np\n",
    "from pprint import pprint\n",
    "\n",
    "import datasets\n",
    "from datasets import load_dataset\n",
    "\n",
    "import os\n",
    "import torch\n",
    "import time\n",
    "\n",
    "from transformers import (\n",
    "    AutoModelForCausalLM,\n",
    "    AutoTokenizer,\n",
    "    BitsAndBytesConfig,\n",
    "    HfArgumentParser,\n",
    "    AutoTokenizer, \n",
    "    TrainingArguments,\n",
    "    Trainer, \n",
    "    GenerationConfig,\n",
    "    pipeline #permet de mettre en place, plusiers ppipeline donc le tokenizer et les promts ainsi que le models\n",
    ")\n",
    "\n"
   ]
  },
  {
   "cell_type": "code",
   "execution_count": 3,
   "metadata": {
    "colab": {
     "base_uri": "https://localhost:8080/"
    },
    "id": "fmRcP4GtuA5D",
    "outputId": "7ce9db1e-fbf6-4836-c5b5-2ede03ff3315"
   },
   "outputs": [
    {
     "name": "stdout",
     "output_type": "stream",
     "text": [
      "cuda\n"
     ]
    }
   ],
   "source": [
    "Device = torch.device(\"cuda\" if torch.cuda.is_available() else \"cpu\")\n",
    "print(Device) #visualiser le divice utiliser"
   ]
  },
  {
   "cell_type": "markdown",
   "metadata": {
    "id": "XP3ZGZRauO0A"
   },
   "source": [
    "Data preparation\n",
    "link:https://huggingface.co/datasets/prsdm/MedQuad-phi2-1k"
   ]
  },
  {
   "cell_type": "code",
   "execution_count": 4,
   "metadata": {
    "colab": {
     "base_uri": "https://localhost:8080/",
     "height": 173,
     "referenced_widgets": [
      "5cd9f85d7c374ce1b883c39be197bfac",
      "8220e4db83864597927d6fe26c12d2a0",
      "502677da38664bfeb63c686f25d1e101",
      "37abb10dd1f645009c8faddcfcce2c57",
      "c2a3de41197c41dcbdb770d447347f37",
      "d2fe998174be4c73831f26a1d77a3132",
      "96bf9493d3da4514b912f6b73c903dd5",
      "216535b673434ecd8e3acdfee7125a9f",
      "ed8513ab10d342daab71697bb8b580f3",
      "35bb7642d087432998497ed193983de7",
      "383e2a0b856c4b048594e2e9e8bbe5ad"
     ]
    },
    "id": "KQrIbV_ruU5X",
    "outputId": "68e6a47b-d0c9-4ba4-ac4a-bb3dd3781fa2"
   },
   "outputs": [],
   "source": [
    "dataset = load_dataset(\"yahma/alpaca-cleaned\", split=\"train\", streaming=True) #fr"
   ]
  },
  {
   "cell_type": "code",
   "execution_count": 5,
   "metadata": {
    "colab": {
     "base_uri": "https://localhost:8080/"
    },
    "id": "ptXWCkHkwdrO",
    "outputId": "1db07405-92af-42c2-b943-d11ad16bb645"
   },
   "outputs": [
    {
     "name": "stdout",
     "output_type": "stream",
     "text": [
      "IterableDataset({\n",
      "    features: ['output', 'input', 'instruction'],\n",
      "    num_shards: 1\n",
      "})\n"
     ]
    }
   ],
   "source": [
    "print(dataset) "
   ]
  },
  {
   "cell_type": "code",
   "execution_count": 6,
   "metadata": {
    "colab": {
     "base_uri": "https://localhost:8080/"
    },
    "id": "g9lLhH8Nwfx2",
    "outputId": "d39fcc8f-7950-4f5a-cec4-c52da63f2346"
   },
   "outputs": [
    {
     "name": "stdout",
     "output_type": "stream",
     "text": [
      "Dataset:\n",
      "{'output': '1. Eat a balanced and nutritious diet: Make sure your meals are inclusive of a variety of fruits and vegetables, lean protein, whole grains, and healthy fats. This helps to provide your body with the essential nutrients to function at its best and can help prevent chronic diseases.\\n\\n2. Engage in regular physical activity: Exercise is crucial for maintaining strong bones, muscles, and cardiovascular health. Aim for at least 150 minutes of moderate aerobic exercise or 75 minutes of vigorous exercise each week.\\n\\n3. Get enough sleep: Getting enough quality sleep is crucial for physical and mental well-being. It helps to regulate mood, improve cognitive function, and supports healthy growth and immune function. Aim for 7-9 hours of sleep each night.', 'input': '', 'instruction': 'Give three tips for staying healthy.'}\n",
      "{'output': 'The three primary colors are red, blue, and yellow. These colors are called primary because they cannot be created by mixing other colors and all other colors can be made by combining them in various proportions. In the additive color system, used for light, the primary colors are red, green, and blue (RGB).', 'input': '', 'instruction': 'What are the three primary colors?'}\n",
      "{'output': \"An atom is the basic building block of all matter and is made up of three types of particles: protons, neutrons, and electrons. The structure of an atom can be described as a nucleus at the center surrounded by a cloud of electrons.\\n\\nThe nucleus of an atom is made up of protons and neutrons. Protons are positively charged particles and neutrons are neutral particles with no charge. Both of these particles are located in the nucleus of the atom, which is at the center of the atom and contains most of the atom's mass.\\n\\nSurrounding the nucleus of the atom is a cloud of electrons. Electrons are negatively charged particles that are in constant motion around the nucleus. The electron cloud is divided into shells or orbitals, and each shell can hold a certain number of electrons. The number of electrons in the outermost shell, called the valence shell, determines the chemical properties of the atom. \\n\\nIn a neutral atom, the number of protons in the nucleus is equal to the number of electrons in the electron cloud, so the positive and negative charges balance out and the atom has no overall charge. The number of protons, also called the atomic number, determines what element the atom is.\", 'input': '', 'instruction': 'Describe the structure of an atom.'}\n",
      "{'output': 'There are several ways to reduce air pollution, including:\\n\\n1. Reduce energy consumption: By conserving energy, we reduce the amount of pollution emitted from power plants. Some ways to achieve this include: using energy-efficient appliances and lighting, insulating homes, and shutting off lights and electronics when not in use.\\n\\n2. Use public transportation or carpool: Cars and trucks are major sources of pollution. By using public transportation, carpooling or biking, you can reduce the number of cars on the road, which in turn reduces emissions.\\n\\n3. Be responsible with waste: When waste is burned or decomposed, they can release harmful gases into the air. Dispose of hazardous waste correctly and recycle materials like plastics, paper, and glass when possible.\\n\\n4. Support clean energy sources: Renewable energy sources like solar and wind power generate little or no pollution. Support clean energy companies and projects, and consider installing renewable energy systems in your home.\\n\\n5. Drive efficiently: If you need to drive, make sure your vehicle is well maintained and drive efficiently by avoiding rapid acceleration and braking, and reducing idling.\\n\\n6. Be mindful of product choices: Some products and practices release more pollution than others. Choose products with eco-friendly packaging and try to minimize your use of aerosol sprays, which can release harmful chemicals into the air.', 'input': '', 'instruction': 'How can we reduce air pollution?'}\n",
      "{'output': 'I had to make a difficult decision when I was working as a project manager at a construction company. I was in charge of a project that needed to be completed by a certain date in order to meet the client’s expectations. However, due to unexpected delays, we were not able to meet the deadline and so I had to make a difficult decision. I decided to extend the deadline, but I had to stretch the team’s resources even further and increase the budget. Although it was a risky decision, I ultimately decided to go ahead with it to ensure that the project was completed on time and that the client’s expectations were met. The project was eventually successfully completed and this was seen as a testament to my leadership and decision-making abilities.', 'input': '', 'instruction': 'Pretend you are a project manager of a construction company. Describe a time when you had to make a difficult decision.'}\n",
      "{'output': 'The Commodore 64 was a highly successful 8-bit home computer manufactured by Commodore Business Machine (CBM) in 1982, with sales amounting to approximately 17 million units sold between 1983-1986. It dominated the market with between 30% and 40% share and outsold its competitors, including IBM PC clones, Apple Computers, and Atari computers. At its peak, CBM was building 400,000 C64s a month for a couple of years.', 'input': '', 'instruction': 'Write a concise summary of the following:\\n\"Commodore 64 (commonly known as the C64 or CBM 64) was manufactured by Commodore Business Machine (CBM) in August 1982 with a starting price of $595. It was an 8-bit home computer with remarkable market success. Between 1983-1986, C64 sales amounted to about 17 million units sold, making them the best-selling single personal computer model of all time in 1983-1986. \\n\\nAdditionally, the Commodore 64 dominated the market with between 30% and 40% share and 2 million units sold per year, outselling the IBM PC clones, Apple Computers, and Atari computers. Adding to their success, Sam Tramiel (former Atari president), during an interview in 1989, said they were building 400,000 C64s a month for a couple of years. \"'}\n",
      "{'output': 'The fraction 4/16 is equivalent to 1/4 because both fractions represent the same value. A fraction can be simplified by dividing both the numerator and the denominator by a common factor. In this case, 4 is a common factor of both the numerator and the denominator of 4/16. When we divide both by 4, we get 4/4 = 1 and 16/4 = 4, so the simplified fraction is 1/4. Alternatively, we can think of this in terms of multiplication. For example, if we multiply the numerator and denominator of the fraction 1/4 by 4, we get (1x4)/(4x4), or 4/16. Since both fractions can be derived from the other through multiplication or division by the same number, they represent the same value and are equivalent.', 'input': '4/16', 'instruction': 'Explain why the following fraction is equivalent to 1/4'}\n",
      "{'output': \"Sophie sat at her desk, staring blankly at the computer screen. Her mind was racing as she weighed the options in front of her. She had been offered a promotion to a senior management position within her company, but it meant moving across the country and leaving her friends and family behind. At the same time, her dream job at a rival company had finally opened up, and she had been invited for an interview. \\n\\nThe thought of leaving her comfortable life behind, to take a chance on something new and uncertain, made Sophie feel anxious, but also excited. She had always been one to take risks, and it had paid off in the past. But now, with such a big decision to make, Sophie couldn't help but feel overwhelmed.\\n\\nAfter much deliberation, Sophie made her choice. She packed her bags, said goodbye to her loved ones, and moved across the country for the new job. It was a difficult first few months, adjusting to a new city and a new company culture. But as time went by, Sophie realized that she had made the best decision for her career. The job was challenging, but also rewarding, and she was surrounded by passionate, driven colleagues who inspired her to grow and develop.\\n\\nIn the end, Sophie's bold move paid off. She was thriving in her new role, and had made new friends and connections in her new city. Looking back, Sophie was grateful for the opportunity to take a risk and make a change, and was confident that she had made the right decision for her career.\", 'input': '', 'instruction': 'Write a short story in third person narration about a protagonist who has to make an important career decision.'}\n",
      "{'output': 'There are two spelling errors in the sentence. The corrected sentence should be: \"He finished his meal and left the restaurant.\"', 'input': 'He finnished his meal and left the resturant', 'instruction': 'Evaluate this sentence for spelling and grammar mistakes'}\n",
      "{'output': \"Julius Caesar, the Roman Military general, and statesman was assassinated on March 15, 44 BC. He was stabbed to death at a meeting of the Senate in the Theatre of Pompey by a group of senators who called themselves the Liberatores. Led by Gaius Cassius Longinus, and Marcus Junius Brutus, they believed that Caesar's dictatorship was subverting the Roman Republic and sought to restore the traditional republican government. The exact number of assailants is not known, but it is believed that a group of as many as 60 conspirators participated in the assassination, and each of them took turns in stabbing Caesar. The day of his death is still known as the Ides of March.\", 'input': '', 'instruction': 'How did Julius Caesar die?'}\n"
     ]
    }
   ],
   "source": [
    "n = 10\n",
    "print(\"Dataset:\")\n",
    "top_n = itertools.islice(dataset, n)\n",
    "for i in top_n:\n",
    "    print(i)\n"
   ]
  },
  {
   "cell_type": "code",
   "execution_count": 7,
   "metadata": {
    "id": "Cguhoo6FxsK_"
   },
   "outputs": [],
   "source": [
    "# Convert the dataset in DataFrame\n",
    "dat=pd.json_normalize(dataset) "
   ]
  },
  {
   "cell_type": "code",
   "execution_count": 8,
   "metadata": {
    "colab": {
     "base_uri": "https://localhost:8080/",
     "height": 206
    },
    "id": "sLAd9yWlyP2O",
    "outputId": "6e84cc66-4100-4ede-9a34-93a7c5f2d973"
   },
   "outputs": [
    {
     "data": {
      "text/html": [
       "<div>\n",
       "<style scoped>\n",
       "    .dataframe tbody tr th:only-of-type {\n",
       "        vertical-align: middle;\n",
       "    }\n",
       "\n",
       "    .dataframe tbody tr th {\n",
       "        vertical-align: top;\n",
       "    }\n",
       "\n",
       "    .dataframe thead th {\n",
       "        text-align: right;\n",
       "    }\n",
       "</style>\n",
       "<table border=\"1\" class=\"dataframe\">\n",
       "  <thead>\n",
       "    <tr style=\"text-align: right;\">\n",
       "      <th></th>\n",
       "      <th>output</th>\n",
       "      <th>input</th>\n",
       "      <th>instruction</th>\n",
       "    </tr>\n",
       "  </thead>\n",
       "  <tbody>\n",
       "    <tr>\n",
       "      <th>0</th>\n",
       "      <td>1. Eat a balanced and nutritious diet: Make su...</td>\n",
       "      <td></td>\n",
       "      <td>Give three tips for staying healthy.</td>\n",
       "    </tr>\n",
       "    <tr>\n",
       "      <th>1</th>\n",
       "      <td>The three primary colors are red, blue, and ye...</td>\n",
       "      <td></td>\n",
       "      <td>What are the three primary colors?</td>\n",
       "    </tr>\n",
       "    <tr>\n",
       "      <th>2</th>\n",
       "      <td>An atom is the basic building block of all mat...</td>\n",
       "      <td></td>\n",
       "      <td>Describe the structure of an atom.</td>\n",
       "    </tr>\n",
       "    <tr>\n",
       "      <th>3</th>\n",
       "      <td>There are several ways to reduce air pollution...</td>\n",
       "      <td></td>\n",
       "      <td>How can we reduce air pollution?</td>\n",
       "    </tr>\n",
       "    <tr>\n",
       "      <th>4</th>\n",
       "      <td>I had to make a difficult decision when I was ...</td>\n",
       "      <td></td>\n",
       "      <td>Pretend you are a project manager of a constru...</td>\n",
       "    </tr>\n",
       "  </tbody>\n",
       "</table>\n",
       "</div>"
      ],
      "text/plain": [
       "                                              output input  \\\n",
       "0  1. Eat a balanced and nutritious diet: Make su...         \n",
       "1  The three primary colors are red, blue, and ye...         \n",
       "2  An atom is the basic building block of all mat...         \n",
       "3  There are several ways to reduce air pollution...         \n",
       "4  I had to make a difficult decision when I was ...         \n",
       "\n",
       "                                         instruction  \n",
       "0               Give three tips for staying healthy.  \n",
       "1                 What are the three primary colors?  \n",
       "2                 Describe the structure of an atom.  \n",
       "3                   How can we reduce air pollution?  \n",
       "4  Pretend you are a project manager of a constru...  "
      ]
     },
     "execution_count": 8,
     "metadata": {},
     "output_type": "execute_result"
    }
   ],
   "source": [
    "#Visualization\n",
    "dat.head() "
   ]
  },
  {
   "cell_type": "markdown",
   "metadata": {
    "id": "t9o9gatJy9EV"
   },
   "source": [
    "**Promt template**"
   ]
  },
  {
   "cell_type": "code",
   "execution_count": 9,
   "metadata": {
    "id": "2AkACNdpzD4z"
   },
   "outputs": [],
   "source": [
    "promt_template_whith_input = \"\"\"Below is an instruction that describes a task, paired with an input that provides further context. Write a response that appropriately completes the request.\n",
    "### Instruction:\n",
    "{instruction}\n",
    "### Input:\n",
    "{input}\n",
    "### Response:\n",
    "{output}\n",
    "\n",
    "\"\"\"\n",
    "\n",
    "#aAdd additional prompt to only take the intruction and output\n",
    "promt_template_without_input = \"\"\"Below is an instruction that describes a task, paired with an input that provides further context. Write a response that appropriately completes the request.\n",
    "### Instruction:\n",
    "{instruction}\n",
    "\n",
    "### Response:\n",
    "{output}\n",
    "\"\"\"\n"
   ]
  },
  {
   "cell_type": "code",
   "execution_count": 10,
   "metadata": {
    "id": "LFy2wGaf1xub"
   },
   "outputs": [],
   "source": [
    "def format_dataset(dataset,template_whith_input,template_without_input):\n",
    "    formatted_data = []\n",
    "    for entry in dataset:\n",
    "        if entry[\"input\"]:\n",
    "          # Apply the input prompt template\n",
    "            formatted_entry = template_whith_input.format(instruction=entry[\"instruction\"],input=entry[\"input\"],output=entry[\"output\"])\n",
    "        else:\n",
    "          # Apply prompt template without input\n",
    "            formatted_entry = template_without_input.format(instruction=entry[\"instruction\"],output=entry[\"output\"])\n",
    "        formatted_data.append(formatted_entry)\n",
    "    return formatted_data\n"
   ]
  },
  {
   "cell_type": "code",
   "execution_count": 11,
   "metadata": {
    "colab": {
     "base_uri": "https://localhost:8080/",
     "height": 352
    },
    "id": "M0805YX15QRA",
    "outputId": "82609990-3bcf-400b-f01c-09113e0bac76"
   },
   "outputs": [],
   "source": [
    "#Formater ou refactoriser nos donnees du data\n",
    "formatted_data = format_dataset(dataset,promt_template_whith_input,promt_template_without_input)"
   ]
  },
  {
   "cell_type": "code",
   "execution_count": 15,
   "metadata": {
    "colab": {
     "base_uri": "https://localhost:8080/"
    },
    "id": "hRCGwij15jwS",
    "outputId": "46132bb4-31cc-49e0-a1b5-d0c8d816d936"
   },
   "outputs": [],
   "source": [
    "# print(formatted_data[0])"
   ]
  },
  {
   "cell_type": "code",
   "execution_count": 14,
   "metadata": {
    "colab": {
     "base_uri": "https://localhost:8080/"
    },
    "id": "hvsS6Dm850Tp",
    "outputId": "71f88046-aedf-4170-d41e-2702ce1565bc"
   },
   "outputs": [],
   "source": [
    "# for item in formatted_data:\n",
    "#     print(item)\n",
    "#     print()"
   ]
  },
  {
   "cell_type": "markdown",
   "metadata": {
    "id": "Lny25YBn7ApF"
   },
   "source": [
    "# Fine-Tunig\n",
    "The fine-tuning, is one of the most popular techniques using in Geneative AI to allow Large Lnaguage models learn new structures and pattern from new input, outpout samples.\n",
    "Even Large Lnaguage models has been trained on large amount of data, there are private data, means data that LLMs doesn't have access, fine-tuning LLMs helps to add new data (private or others), can by guiding form strong prompt engineering techniques, reduce Hallucinations.\n",
    "\n",
    "**Papers**\n",
    "- Fine-tuning LLMs,Zero-shot Learners: https://arxiv.org/pdf/2109.01652\n",
    "- Fine-tuning Large Language Models with Human-inspired Learning Strategies in Medical Question Answering : https://arxiv.org/abs/2408.07888\n",
    "\n",
    "**Dataset**\n",
    "- liens:https://huggingface.co/datasets/prsdm/MedQuad-phi2-1k"
   ]
  },
  {
   "cell_type": "code",
   "execution_count": 14,
   "metadata": {
    "id": "Lk1Gr_r36yeH"
   },
   "outputs": [],
   "source": [
    "dataset = load_dataset(\"prsdm/MedQuad-phi2-1k\", split=\"train\")"
   ]
  },
  {
   "cell_type": "code",
   "execution_count": 15,
   "metadata": {
    "colab": {
     "base_uri": "https://localhost:8080/"
    },
    "id": "UgkCd5N36nU9",
    "outputId": "6c208a30-fd7f-48c4-8ecc-7cdf31dcfcfa"
   },
   "outputs": [
    {
     "name": "stdout",
     "output_type": "stream",
     "text": [
      "Dataset({\n",
      "    features: ['text'],\n",
      "    num_rows: 1000\n",
      "})\n"
     ]
    }
   ],
   "source": [
    "print(dataset)"
   ]
  },
  {
   "cell_type": "code",
   "execution_count": 16,
   "metadata": {
    "colab": {
     "base_uri": "https://localhost:8080/"
    },
    "id": "c14bK1929cox",
    "outputId": "5942951f-32b6-4fe0-84b5-ba3cf9e66b4d"
   },
   "outputs": [
    {
     "name": "stdout",
     "output_type": "stream",
     "text": [
      "dataset:\n",
      "{'text': '### Instruction: How to prevent Lung Cancer ? ### Assistant: Key Points\\n                    - Avoiding risk factors and increasing protective factors may help prevent lung cancer.    - The following are risk factors for lung cancer:         - Cigarette, cigar, and pipe smoking      - Secondhand smoke     - Family history     - HIV infection     - Environmental risk factors     - Beta carotene supplements in heavy smokers        - The following are protective factors for lung cancer:         - Not smoking     - Quitting smoking     - Lower exposure to workplace risk factors      - Lower exposure to radon        - It is not clear if the following decrease the risk of lung cancer:         - Diet     - Physical activity        - The following do not decrease the risk of lung cancer:         - Beta carotene supplements in nonsmokers     - Vitamin E supplements         - Cancer prevention clinical trials are used to study ways to prevent cancer.    -  New ways to prevent lung cancer are being studied in clinical trials.\\n                \\n                \\n                    Avoiding risk factors and increasing protective factors may help prevent lung cancer.\\n                    Avoiding cancer risk factors may help prevent certain cancers. Risk factors include smoking, being overweight, and not getting enough exercise. Increasing protective factors such as quitting smoking and exercising may also help prevent some cancers. Talk to your doctor or other health care professional about how you might lower your risk of cancer.\\n                \\n                \\n                    The following are risk factors for lung cancer:\\n                    Cigarette, cigar, and pipe smoking      Tobacco smoking is the most important risk factor for lung cancer. Cigarette, cigar, and pipe smoking all increase the risk of lung cancer. Tobacco smoking causes about 9 out of 10 cases of lung cancer in men and about 8 out of 10 cases of lung cancer in women.    Studies have shown that smoking low tar or low nicotine cigarettes does not lower the risk of lung cancer.     Studies also show that the risk of lung cancer from smoking cigarettes increases with the number of cigarettes smoked per day and the number of years smoked. People who smoke have about 20 times the risk of lung cancer compared to those who do not smoke.       Secondhand smoke    Being exposed to secondhand tobacco smoke is also a risk factor for lung cancer. Secondhand smoke is the smoke that comes from a burning cigarette or other tobacco product, or that is exhaled by smokers. People who inhale secondhand smoke are exposed to the same cancer -causing agents as smokers, although in smaller amounts. Inhaling secondhand smoke is called involuntary or passive smoking.       Family history    Having a family history of lung cancer is a risk factor for lung cancer. People with a relative who has had lung cancer may be twice as likely to have lung cancer as people who do not have a relative who has had lung cancer. Because cigarette smoking tends to run in families and family members are exposed to secondhand smoke, it is hard to know whether the increased risk of lung cancer is from the family history of lung cancer or from being exposed to cigarette smoke.       HIV infection    Being infected with the human immunodeficiency virus (HIV), the cause of acquired immunodeficiency syndrome (AIDS), is linked with a higher risk of lung cancer. People infected with HIV may have more than twice the risk of lung cancer than those who are not infected. Since smoking rates are higher in those infected with HIV than in those not infected, it is not clear whether the increased risk of lung cancer is from HIV infection or from being exposed to cigarette smoke.        Environmental risk factors            -   Radiation exposure: Being exposed to radiation is a risk factor for lung cancer. Atomic bomb radiation, radiation therapy, imaging tests, and radon are sources of radiation exposure:                   - Atomic bomb radiation: Being exposed to radiation after an atomic bomb explosion increases the risk of lung cancer.       - Radiation therapy: Radiation therapy to the chest may be used to treat certain cancers, including breast cancer and Hodgkin lymphoma. Radiation therapy uses x-rays, gamma rays, or other types of radiation that may increase the risk of lung cancer. The higher the dose of radiation received, the higher the risk. The risk of lung cancer following radiation therapy is higher in patients who smoke than in nonsmokers.       - Imaging tests: Imaging tests, such as CT scans, expose patients to radiation. Low-dose spiral CT scans expose patients to less radiation than higher dose CT scans. In lung cancer screening, the use of low-dose spiral CT scans can lessen the harmful effects of radiation.       - Radon: Radon is a radioactive gas that comes from the breakdown of uranium in rocks and soil. It seeps up through the ground, and leaks into the air or water supply. Radon can enter homes through cracks in floors, walls, or the foundation, and levels of radon can build up over time.             Studies show that high levels of radon gas inside the home or workplace increase the number of new cases of lung cancer and the number of deaths caused by lung cancer. The risk of lung cancer is higher in smokers exposed to radon than in nonsmokers who are exposed to it. In people who have never smoked, about 30% of deaths caused by lung cancer have been linked to being exposed to radon.     -  Workplace exposure: Studies show that being exposed to the following substances increases the risk of lung cancer:                  -  Asbestos.       -  Arsenic.       - Chromium.       - Nickel.       - Beryllium.       -  Cadmium.       - Tar and soot.            These substances can cause lung cancer in people who are exposed to them in the workplace and have never smoked. As the level of exposure to these substances increases, the risk of lung cancer also increases. The risk of lung cancer is even higher in people who are exposed and also smoke.      -  Air pollution: Studies show that living in areas with higher levels of air pollution increases the risk of lung cancer.              Beta carotene supplements in heavy smokers    Taking beta carotene supplements (pills) increases the risk of lung cancer, especially in smokers who smoke one or more packs a day. The risk is higher in smokers who have at least one alcoholic drink every day.\\n                \\n                \\n                    The following are protective factors for lung cancer:\\n                    Not smoking    The best way to prevent lung cancer is to not smoke.       Quitting smoking    Smokers can decrease their risk of lung cancer by quitting. In smokers who have been treated for lung cancer, quitting smoking lowers the risk of new lung cancers. Counseling, the use of nicotine replacement products, and antidepressant therapy have helped smokers quit for good.    In a person who has quit smoking, the chance of preventing lung cancer depends on how many years and how much the person smoked and the length of time since quitting. After a person has quit smoking for 10 years, the risk of lung cancer decreases 30% to 50%.    See the following for more information on quitting smoking:            -  Tobacco (includes help with quitting)     -  Cigarette Smoking: Health Risks and How to Quit               Lower exposure to workplace risk factors     Laws that protect workers from being exposed to cancer-causing substances, such as asbestos, arsenic, nickel, and chromium, may help lower their risk of developing lung cancer. Laws that prevent smoking in the workplace help lower the risk of lung cancer caused by secondhand smoke.       Lower exposure to radon     Lowering radon levels may lower the risk of lung cancer, especially among cigarette smokers. High levels of radon in homes may be reduced by taking steps to prevent radon leakage, such as sealing basements.\\n                \\n                \\n                    It is not clear if the following decrease the risk of lung cancer:\\n                    Diet     Some studies show that people who eat high amounts of fruits or vegetables have a lower risk of lung cancer than those who eat low amounts. However, since smokers tend to have less healthy diets than nonsmokers, it is hard to know whether the decreased risk is from having a healthy diet or from not smoking.       Physical activity    Some studies show that people who are physically active have a lower risk of lung cancer than people who are not. However, since smokers tend to have different levels of physical activity than nonsmokers, it is hard to know if physical activity affects the risk of lung cancer.\\n                \\n                \\n                    The following do not decrease the risk of lung cancer:\\n                    Beta carotene supplements in nonsmokers    Studies of nonsmokers show that taking beta carotene supplements does not lower their risk of lung cancer.       Vitamin E supplements      Studies show that taking vitamin E supplements does not affect the risk of lung cancer.\\n                \\n                \\n                    Cancer prevention clinical trials are used to study ways to prevent cancer.\\n                    Cancer prevention clinical trials are used to study ways to lower the risk of developing certain types of cancer. Some cancer prevention trials are conducted with healthy people who have not had cancer but who have an increased risk for cancer. Other prevention trials are conducted with people who have had cancer and are trying to prevent another cancer of the same type or to lower their chance of developing a new type of cancer. Other trials are done with healthy volunteers who are not known to have any risk factors for cancer.    The purpose of some cancer prevention clinical trials is to find out whether actions people take can prevent cancer. These may include eating fruits and vegetables, exercising, quitting smoking, or taking certain medicines, vitamins, minerals, or food supplements.\\n                \\n                \\n                    New ways to prevent lung cancer are being studied in clinical trials.\\n                    Clinical trials are taking place in many parts of the country. Information about clinical trials can be found in the Clinical Trials section of the NCI website. Check the list of NCI-supported cancer clinical trials for prevention trials for non-small cell lung cancer and small cell lung cancer that are now accepting patients. These include trials for quitting smoking.'}\n",
      "{'text': \"### Instruction: What are the treatments for Primary CNS Lymphoma ? ### Assistant: Key Points\\n                    - There are different types of treatment for patients with primary CNS lymphoma.     - Three standard treatments are used:         - Radiation therapy      - Chemotherapy      -  Steroid therapy        - New types of treatment are being tested in clinical trials.         - High-dose chemotherapy with stem cell transplant     - Targeted therapy        - Patients may want to think about taking part in a clinical trial.    - Patients can enter clinical trials before, during, or after starting their cancer treatment.    - Follow-up tests may be needed.\\n                \\n                \\n                    There are different types of treatment for patients with primary CNS lymphoma.\\n                    Different types of treatment are available for patients with primary central nervous system (CNS) lymphoma. Some treatments are standard (the currently used treatment), and some are being tested in clinical trials. A treatment clinical trial is a research study meant to help improve current treatments or obtain information on new treatments for patients with cancer. When clinical trials show that a new treatment is better than the standard treatment, the new treatment may become the standard treatment. Patients may want to think about taking part in a clinical trial. Some clinical trials are open only to patients who have not started treatment.     Surgery is not used to treat primary CNS lymphoma.\\n                \\n                \\n                    Three standard treatments are used:\\n                    Radiation therapy      Radiation therapy is a cancer treatment that uses high-energy x-rays or other types of radiation to kill cancer cells or keep them from growing. There are two types of radiation therapy:            -  External radiation therapy uses a machine outside the body to send radiation toward the cancer. Because primary CNS lymphoma spreads throughout the brain, external radiation therapy is given to the whole brain. This is called whole brain radiation therapy.     -  Internal radiation therapy uses a radioactive substance sealed in needles, seeds, wires, or catheters that are placed directly into or near the cancer.           The way the radiation therapy is given depends on whether the patient has primary CNS lymphoma and AIDS. External radiation therapy is used to treat primary CNS lymphoma.     High-dose radiation therapy to the brain can damage healthy tissue and cause disorders that can affect thinking, learning, problem solving, speech, reading, writing, and memory. Clinical trials have tested the use of chemotherapy alone or before radiation therapy to reduce the damage to healthy brain tissue that occurs with the use of radiation therapy.       Chemotherapy     Chemotherapy is a cancer treatment that uses drugs to stop the growth of cancer cells, either by killing the cells or by stopping them from dividing. When chemotherapy is taken by mouth or injected into a vein or muscle, the drugs enter the bloodstream and can reach cancer cells throughout the body (systemic chemotherapy). When chemotherapy is placed directly into the cerebrospinal fluid (intrathecal chemotherapy), an organ, or a body cavity such as the abdomen, the drugs mainly affect cancer cells in those areas (regional chemotherapy).     The way the chemotherapy is given depends on where the tumor is in the CNS or eye. Primary CNS lymphoma may be treated with systemic chemotherapy, intrathecal chemotherapy and/or intraventricular chemotherapy, in which anticancer drugs are placed into the ventricles (fluid -filled cavities) of the brain. If primary CNS lymphoma is found in the eye, anticancer drugs are injected directly into the vitreous humor (jelly-like substance) inside the eye.     A network of blood vessels and tissue, called the blood-brain barrier, protects the brain from harmful substances. This barrier can also keep anticancer drugs from reaching the brain. In order to treat CNS lymphoma, certain drugs may be used to make openings between cells in the blood-brain barrier. This is called blood-brain barrier disruption. Anticancer drugs infused into the bloodstream may then reach the brain.         Steroid therapy     Steroids are hormones made naturally in the body. They can also be made in a laboratory and used as drugs. Glucocorticoids are steroid drugs that have an anticancer effect in lymphomas.\\n                \\n                \\n                    New types of treatment are being tested in clinical trials.\\n                    This summary section describes treatments that are being studied in clinical trials. It may not mention every new treatment being studied. Information about clinical trials is available from the NCI website.     High-dose chemotherapy with stem cell transplant     High-dose chemotherapy with stem cell transplant is a method of giving high doses of chemotherapy and replacing blood -forming cells destroyed by the cancer treatment. Stem cells (immature blood cells) are removed from the blood or bone marrow of the patient or a donor and are frozen and stored. After the chemotherapy is completed, the stored stem cells are thawed and given back to the patient through an infusion. These reinfused stem cells grow into (and restore) the body's blood cells.       Targeted therapy     Targeted therapy is a type of treatment that uses drugs or other substances to attack cancer cells. Targeted therapies usually cause less harm to normal cells than chemotherapy or radiation therapy do. Monoclonal antibody therapy is one type of targeted therapy being studied in the treatment of primary CNS lymphoma.    Monoclonal antibody therapy is a cancer treatment that uses antibodies made in the laboratory from a single type of immune system cell. These antibodies can identify substances on cancer cells or normal substances that may help cancer cells grow. The antibodies attach to the substances and kill the cancer cells, block their growth, or keep them from spreading. Monoclonal antibodies are given by infusion. They may be used alone or to carry drugs, toxins, or radioactive material directly to cancer cells. Rituximab is a type of monoclonal antibody used to treat newly diagnosed primary CNS lymphoma in patients who do not have AIDS.\\n                \\n                \\n                    Patients may want to think about taking part in a clinical trial.\\n                    For some patients, taking part in a clinical trial may be the best treatment choice. Clinical trials are part of the cancer research process. Clinical trials are done to find out if new cancer treatments are safe and effective or better than the standard treatment.   Many of today's standard treatments for cancer are based on earlier clinical trials. Patients who take part in a clinical trial may receive the standard treatment or be among the first to receive a new treatment.   Patients who take part in clinical trials also help improve the way cancer will be treated in the future. Even when clinical trials do not lead to effective new treatments, they often answer important questions and help move research forward.\\n                \\n                \\n                    Patients can enter clinical trials before, during, or after starting their cancer treatment.\\n                    Some clinical trials only include patients who have not yet received treatment. Other trials test treatments for patients whose cancer has not gotten better. There are also clinical trials that test new ways to stop cancer from recurring (coming back) or reduce the side effects of cancer treatment.   Clinical trials are taking place in many parts of the country. See the Treatment Options section that follows for links to current treatment clinical trials. These have been retrieved from NCI's listing of clinical trials.\\n                \\n                \\n                    Follow-up tests may be needed.\\n                    Some of the tests that were done to diagnose the cancer or to find out the stage of the cancer may be repeated. Some tests will be repeated in order to see how well the treatment is working. Decisions about whether to continue, change, or stop treatment may be based on the results of these tests.   Some of the tests will continue to be done from time to time after treatment has ended. The results of these tests can show if your condition has changed or if the cancer has recurred (come back). These tests are sometimes called follow-up tests or check-ups.\\n                \\n                \\n\\t\\t\\t\\t\\t\\t\\t\\t\\t\\t\\t\\t            Treatment Options for Primary CNS Lymphoma\\n\\t\\t\\t\\t\\t\\t\\t\\t\\t\\t\\t\\t            \\n\\t\\t\\t\\t\\t\\t\\t\\t\\t\\t\\t\\t                \\n\\t\\t\\t\\t\\t\\t\\t\\t\\t\\t\\t\\t                    Primary CNS Lymphoma Not Related to AIDS\\n\\t\\t\\t\\t\\t\\t\\t\\t\\t\\t\\t\\t                    Treatment of primary central nervous system (CNS) lymphoma in patients who do not have AIDS may include the following:         -  Whole brain radiation therapy.    -  Chemotherapy.    - Chemotherapy followed by radiation therapy.    - Chemotherapy and targeted therapy (rituximab) followed by high-dose chemotherapy and stem cell transplant.    - A clinical trial of high-dose chemotherapy with stem cell transplant.    - A clinical trial of high-dose chemotherapy and targeted therapy (rituximab), with or without stem cell transplant or whole brain radiation therapy.\\n\\t\\t\\t\\t\\t\\t\\t\\t\\t\\t\\t\\t                \\n\\t\\t\\t\\t\\t\\t\\t\\t\\t\\t\\t\\t                \\n\\t\\t\\t\\t\\t\\t\\t\\t\\t\\t\\t\\t                    Primary CNS Lymphoma Related to AIDS\\n\\t\\t\\t\\t\\t\\t\\t\\t\\t\\t\\t\\t                    Treatment of primary central nervous system (CNS) lymphoma in patients who do have AIDS may include the following:         -  Whole brain radiation therapy.    -  Chemotherapy followed by radiation therapy.        Treatment of primary CNS lymphoma is different in patients with AIDS because the treatment side effects may be more severe. (See the PDQ summary on AIDS-Related Lymphoma Treatment for more information).\\n\\t\\t\\t\\t\\t\\t\\t\\t\\t\\t\\t\\t                \\n\\t\\t\\t\\t\\t\\t\\t\\t\\t\\t\\t\\t                \\n\\t\\t\\t\\t\\t\\t\\t\\t\\t\\t\\t\\t                    Primary Intraocular Lymphoma\\n\\t\\t\\t\\t\\t\\t\\t\\t\\t\\t\\t\\t                    Treatment of primary intraocular lymphoma may include the following:         -  Chemotherapy (intraocular or systemic).    -  Whole brain radiation therapy.\\n\\t\\t\\t\\t\\t\\t\\t\\t\\t\\t\\t\\t                \\n\\t\\t\\t\\t\\t\\t\\t\\t\\t\\t\\t\\t                \\n\\t\\t\\t\\t\\t\\t\\t\\t\\t\\t\\t\\t                    Recurrent Primary CNS Lymphoma\\n\\t\\t\\t\\t\\t\\t\\t\\t\\t\\t\\t\\t                    Treatment of recurrent primary central nervous system (CNS) lymphoma may include the following:         -  Chemotherapy.    -  Radiation therapy (if not received in earlier treatment).    - A clinical trial of a new drug or treatment schedule.\"}\n",
      "{'text': '### Instruction: What are the stages of Vulvar Cancer ? ### Assistant: Key Points\\n                    - After vulvar cancer has been diagnosed, tests are done to find out if cancer cells have spread within the vulva or to other parts of the body.    - There are three ways that cancer spreads in the body.    - Cancer may spread from where it began to other parts of the body.    - In vulvar intraepithelial neoplasia (VIN), abnormal cells are found on the surface of the vulvar skin.    - The following stages are used for vulvar cancer:         - Stage I     - Stage II     - Stage III     - Stage IV\\n                \\n                \\n                    After vulvar cancer has been diagnosed, tests are done to find out if cancer cells have spread within the vulva or to other parts of the body.\\n                    The process used to find out if cancer has spread within the vulva or to other parts of the body is called staging. The information gathered from the staging process determines the stage of the disease. It is important to know the stage in order to plan treatment. The following tests and procedures may be used in the staging process:         -   Pelvic exam : An exam of the vagina, cervix, uterus, fallopian tubes, ovaries, and rectum. A speculum is inserted into the vagina and the doctor or nurse looks at the vagina and cervix for signs of disease. A Pap test of the cervix is usually done. The doctor or nurse also inserts one or two lubricated, gloved fingers of one hand into the vagina and places the other hand over the lower abdomen to feel the size, shape, and position of the uterus and ovaries. The doctor or nurse also inserts a lubricated, gloved finger into the rectum to feel for lumps or abnormal areas.    -   Colposcopy : A procedure in which a colposcope (a lighted, magnifying instrument) is used to check the vagina and cervix for abnormal areas. Tissue samples may be taken using a curette (spoon-shaped instrument) or a brush and checked under a microscope for signs of disease.     -   Cystoscopy : A procedure to look inside the bladder and urethra to check for abnormal areas. A cystoscope is inserted through the urethra into the bladder. A cystoscope is a thin, tube-like instrument with a light and a lens for viewing. It may also have a tool to remove tissue samples, which are checked under a microscope for signs of cancer.    -   Proctoscopy : A procedure to look inside the rectum and anus to check for abnormal areas. A proctoscope is inserted into the anus and rectum. A proctoscope is a thin, tube-like instrument with a light and a lens for viewing. It may also have a tool to remove tissue samples, which are checked under a microscope for signs of cancer.    -   X-rays : An x-ray is a type of energy beam that can go through the body and onto film, making a picture of areas inside the body. To stage vulvar cancer, x-rays may be taken of the organs and bones inside the chest, and the pelvic bones.    -   Intravenous pyelogram (IVP): A series of x-rays of the kidneys, ureters, and bladder to find out if cancer has spread to these organs. A contrast dye is injected into a vein. As the contrast dye moves through the kidneys, ureters and bladder, x-rays are taken to see if there are any blockages. This procedure is also called intravenous urography.    -   CT scan (CAT scan): A procedure that makes a series of detailed pictures of areas inside the body, taken from different angles. The pictures are made by a computer linked to an x-ray machine. A dye may be injected into a vein or swallowed to help the organs or tissues show up more clearly. This procedure is also called computed tomography, computerized tomography, or computerized axial tomography.    -   MRI (magnetic resonance imaging): A procedure that uses a magnet, radio waves, and a computer to make a series of detailed pictures of areas inside the body. This procedure is also called nuclear magnetic resonance imaging (NMRI).    -   PET scan (positron emission tomography scan): A procedure to find malignant tumor cells in the body. A small amount of radioactive glucose (sugar) is injected into a vein. The PET scanner rotates around the body and makes a picture of where glucose is being used in the body. Malignant tumor cells show up brighter in the picture because they are more active and take up more glucose than normal cells do.     -   Sentinel lymph node biopsy : The removal of the sentinel lymph node during surgery. The sentinel lymph node is the first lymph node to receive lymphatic drainage from a tumor. It is the first lymph node the cancer is likely to spread to from the tumor. A radioactive substance and/or blue dye is injected near the tumor. The substance or dye flows through the lymph ducts to the lymph nodes. The first lymph node to receive the substance or dye is removed. A pathologist views the tissue under a microscope to look for cancer cells. If cancer cells are not found, it may not be necessary to remove more lymph nodes. Sentinel lymph node biopsy may be done during surgery to remove the tumor for early-stage vulvar cancer.\\n                \\n                \\n                    There are three ways that cancer spreads in the body.\\n                    Cancer can spread through tissue, the lymph system, and the blood:         - Tissue. The cancer spreads from where it began by growing into nearby areas.     - Lymph system. The cancer spreads from where it began by getting into the lymph system. The cancer travels through the lymph vessels to other parts of the body.     - Blood. The cancer spreads from where it began by getting into the blood. The cancer travels through the blood vessels to other parts of the body.\\n                \\n                \\n                    Cancer may spread from where it began to other parts of the body.\\n                    When cancer spreads to another part of the body, it is called metastasis. Cancer cells break away from where they began (the primary tumor) and travel through the lymph system or blood.         - Lymph system. The cancer gets into the lymph system, travels through the lymph vessels, and forms a tumor (metastatic tumor) in another part of the body.    - Blood. The cancer gets into the blood, travels through the blood vessels, and forms a tumor (metastatic tumor) in another part of the body.        The metastatic tumor is the same type of cancer as the primary tumor. For example, if vulvar cancer spreads to the lung, the cancer cells in the lung are actually vulvar cancer cells. The disease is metastatic vulvar cancer, not lung cancer.\\n                \\n                \\n                    In vulvar intraepithelial neoplasia (VIN), abnormal cells are found on the surface of the vulvar skin.\\n                    These abnormal cells are not cancer. Vulvar intraepithelial neoplasia (VIN) may become cancer and spread into nearby tissue. VIN is sometimes called stage 0 or carcinoma in situ.\\n                \\n                \\n                    The following stages are used for vulvar cancer:\\n                    Stage I    In stage I, cancer has formed. The tumor is found only in the vulva or perineum (area between the rectum and the vagina). Stage I is divided into stages IA and IB.               - In stage IA, the tumor is 2 centimeters or smaller and has spread 1 millimeter or less into the tissue of the vulva. Cancer has not spread to the lymph nodes.     - In stage IB, the tumor is larger than 2 centimeters or has spread more than 1 millimeter into the tissue of the vulva. Cancer has not spread to the lymph nodes.              Stage II    In stage II, the tumor is any size and has spread into the lower part of the urethra, the lower part of the vagina, or the anus. Cancer has not spread to the lymph nodes.       Stage III    In stage III, the tumor is any size and may have spread into the lower part of the urethra, the lower part of the vagina, or the anus. Cancer has spread to one or more nearby lymph nodes. Stage III is divided into stages IIIA, IIIB, and IIIC.            - In stage IIIA, cancer is found in 1 or 2 lymph nodes that are smaller than 5 millimeters or in one lymph node that is 5 millimeters or larger.     - In stage IIIB, cancer is found in 2 or more lymph nodes that are 5 millimeters or larger, or in 3 or more lymph nodes that are smaller than 5 millimeters.     - In stage IIIC, cancer is found in lymph nodes and has spread to the outside surface of the lymph nodes.              Stage IV    In stage IV, the tumor has spread into the upper part of the urethra, the upper part of the vagina, or to other parts of the body. Stage IV is divided into stages IVA and IVB.             - In stage IVA:                  -  cancer has spread into the lining of the upper urethra, the upper vagina, the bladder, or the rectum, or has attached to the pelvic bone; or       - cancer has spread to nearby lymph nodes and the lymph nodes are not moveable or have formed an ulcer.                 - In stage IVB, cancer has spread to lymph nodes in the pelvis or to other parts of the body.'}\n",
      "{'text': '### Instruction: How to diagnose Pancreatic Neuroendocrine Tumors (Islet Cell Tumors) ? ### Assistant: Lab tests and imaging tests are used to detect (find) and diagnose pancreatic NETs.\\n                    \\tThe following tests and procedures may be used:         -   Physical exam and history : An exam of the body to check general signs of health, including checking for signs of disease, such as lumps or anything else that seems unusual. A history of the patients health habits and past illnesses and treatments will also be taken.     -   Blood chemistry studies : A procedure in which a blood sample is checked to measure the amounts of certain substances, such as glucose (sugar), released into the blood by organs and tissues in the body. An unusual (higher or lower than normal) amount of a substance can be a sign of disease.     -   Chromogranin A test: A test in which a blood sample is checked to measure the amount of chromogranin A in the blood. A higher than normal amount of chromogranin A and normal amounts of hormones such as gastrin, insulin, and glucagon can be a sign of a non-functional pancreatic NET.     -   Abdominal CT scan (CAT scan): A procedure that makes a series of detailed pictures of the abdomen, taken from different angles. The pictures are made by a computer linked to an x-ray machine. A dye may be injected into a vein or swallowed to help the organs or tissues show up more clearly. This procedure is also called computed tomography, computerized tomography, or computerized axial tomography.    -   MRI (magnetic resonance imaging): A procedure that uses a magnet, radio waves, and a computer to make a series of detailed pictures of areas inside the body. This procedure is also called nuclear magnetic resonance imaging (NMRI).    -   Somatostatin receptor scintigraphy : A type of radionuclide scan that may be used to find small pancreatic NETs. A small amount of radioactive octreotide (a hormone that attaches to tumors) is injected into a vein and travels through the blood. The radioactive octreotide attaches to the tumor and a special camera that detects radioactivity is used to show where the tumors are in the body. This procedure is also called octreotide scan and SRS.     -   Endoscopic ultrasound (EUS): A procedure in which an endoscope is inserted into the body, usually through the mouth or rectum. An endoscope is a thin, tube-like instrument with a light and a lens for viewing. A probe at the end of the endoscope is used to bounce high-energy sound waves (ultrasound) off internal tissues or organs and make echoes. The echoes form a picture of body tissues called a sonogram. This procedure is also called endosonography.     -   Endoscopic retrograde cholangiopancreatography (ERCP): A procedure used to x-ray the ducts (tubes) that carry bile from the liver to the gallbladder and from the gallbladder to the small intestine. Sometimes pancreatic cancer causes these ducts to narrow and block or slow the flow of bile, causing jaundice. An endoscope is passed through the mouth, esophagus, and stomach into the first part of the small intestine. An endoscope is a thin, tube-like instrument with a light and a lens for viewing. A catheter (a smaller tube) is then inserted through the endoscope into the pancreatic ducts. A dye is injected through the catheter into the ducts and an x-ray is taken. If the ducts are blocked by a tumor, a fine tube may be inserted into the duct to unblock it. This tube (or stent) may be left in place to keep the duct open. Tissue samples may also be taken and checked under a microscope for signs of cancer.    -   Angiogram : A procedure to look at blood vessels and the flow of blood. A contrast dye is injected into the blood vessel. As the contrast dye moves through the blood vessel, x-rays are taken to see if there are any blockages.     -   Laparotomy : A surgical procedure in which an incision (cut) is made in the wall of the abdomen to check the inside of the abdomen for signs of disease. The size of the incision depends on the reason the laparotomy is being done. Sometimes organs are removed or tissue samples are taken and checked under a microscope for signs of disease.    -   Intraoperative ultrasound : A procedure that uses high-energy sound waves (ultrasound) to create images of internal organs or tissues during surgery. A transducer placed directly on the organ or tissue is used to make the sound waves, which create echoes. The transducer receives the echoes and sends them to a computer, which uses the echoes to make pictures called sonograms.    -   Biopsy : The removal of cells or tissues so they can be viewed under a microscope by a pathologist to check for signs of cancer. There are several ways to do a biopsy for pancreatic NETs. Cells may be removed using a fine or wide needle inserted into the pancreas during an x-ray or ultrasound. Tissue may also be removed during a laparoscopy (a surgical incision made in the wall of the abdomen).    -   Bone scan : A procedure to check if there are rapidly dividing cells, such as cancer cells, in the bone. A very small amount of radioactive material is injected into a vein and travels through the blood. The radioactive material collects in bones where cancer cells have spread and is detected by a scanner.\\n        \\t\\t\\t\\n        \\t\\t\\t\\n                    \\tOther kinds of lab tests are used to check for the specific type of pancreatic NETs.\\n                    \\tThe following tests and procedures may be used:    Gastrinoma          -  Fasting serum gastrin test: A test in which a blood sample is checked to measure the amount of gastrin in the blood. This test is done after the patient has had nothing to eat or drink for at least 8 hours. Conditions other than gastrinoma can cause an increase in the amount of gastrin in the blood.    -  Basal acid output test: A test to measure the amount of acid made by the stomach. The test is done after the patient has had nothing to eat or drink for at least 8 hours. A tube is inserted through the nose or throat, into the stomach. The stomach contents are removed and four samples of gastric acid are removed through the tube. These samples are used to find out the amount of gastric acid made during the test and the pH level of the gastric secretions.    -   Secretin stimulation test : If the basal acid output test result is not normal, a secretin stimulation test may be done. The tube is moved into the small intestine and samples are taken from the small intestine after a drug called secretin is injected. Secretin causes the small intestine to make acid. When there is a gastrinoma, the secretin causes an increase in how much gastric acid is made and the level of gastrin in the blood.    -  Somatostatin receptor scintigraphy: A type of radionuclide scan that may be used to find small pancreatic NETs. A small amount of radioactive octreotide (a hormone that attaches to tumors) is injected into a vein and travels through the blood. The radioactive octreotide attaches to the tumor and a special camera that detects radioactivity is used to show where the tumors are in the body. This procedure is also called octreotide scan and SRS.         Insulinoma          -  Fasting serum glucose and insulin test: A test in which a blood sample is checked to measure the amounts of glucose (sugar) and insulin in the blood. The test is done after the patient has had nothing to eat or drink for at least 24 hours.          Glucagonoma          -  Fasting serum glucagon test: A test in which a blood sample is checked to measure the amount of glucagon in the blood. The test is done after the patient has had nothing to eat or drink for at least 8 hours.          Other tumor types          - VIPoma               - Serum VIP (vasoactive intestinal peptide) test: A test in which a blood sample is checked to measure the amount of VIP.       - Blood chemistry studies: A procedure in which a blood sample is checked to measure the amounts of certain substances released into the blood by organs and tissues in the body. An unusual (higher or lower than normal) amount of a substance can be a sign of disease. In VIPoma, there is a lower than normal amount of potassium.      - Stool analysis : A stool sample is checked for a higher than normal sodium (salt) and potassium levels.             - Somatostatinoma               - Fasting serum somatostatin test: A test in which a blood sample is checked to measure the amount of somatostatin in the blood. The test is done after the patient has had nothing to eat or drink for at least 8 hours.      - Somatostatin receptor scintigraphy: A type of radionuclide scan that may be used to find small pancreatic NETs. A small amount of radioactive octreotide (a hormone that attaches to tumors) is injected into a vein and travels through the blood. The radioactive octreotide attaches to the tumor and a special camera that detects radioactivity is used to show where the tumors are in the body. This procedure is also called octreotide scan and SRS.'}\n",
      "{'text': \"### Instruction: What are the treatments for Parathyroid Cancer ? ### Assistant: Key Points\\n                    - There are different types of treatment for patients with parathyroid cancer.     - Treatment includes control of hypercalcemia (too much calcium in the blood) in patients who have an overactive parathyroid gland.     - Four types of standard treatment are used:         - Surgery     - Radiation therapy      - Chemotherapy     - Supportive care        - New types of treatment are being tested in clinical trials.    - Patients may want to think about taking part in a clinical trial.    - Patients can enter clinical trials before, during, or after starting their cancer treatment.    - Follow-up tests may be needed.\\n                \\n                \\n                    There are different types of treatment for patients with parathyroid cancer.\\n                    Different types of treatment are available for patients with parathyroid cancer. Some treatments are standard (the currently used treatment), and some are being tested in clinical trials. A treatment clinical trial is a research study meant to help improve current treatments or obtain information on new treatments for patients with cancer. When clinical trials show that a new treatment is better than the standard treatment, the new treatment may become the standard treatment. Patients may want to think about taking part in a clinical trial. Some clinical trials are open only to patients who have not started treatment.\\n                \\n                \\n                    Treatment includes control of hypercalcemia (too much calcium in the blood) in patients who have an overactive parathyroid gland.\\n                    In order to reduce the amount of parathyroid hormone that is being made and control the level of calcium in the blood, as much of the tumor as possible is removed in surgery. For patients who cannot have surgery, medication may be used.\\n                \\n                \\n                    Four types of standard treatment are used:\\n                    Surgery    Surgery (removing the cancer in an operation) is the most common treatment for parathyroid cancer that is in the parathyroid glands or has spread to other parts of the body. Because parathyroid cancer grows very slowly, cancer that has spread to other parts of the body may be removed by surgery in order to cure the patient or control the effects of the disease for a long time. Before surgery, treatment is given to control hypercalcemia.     The following surgical procedures may be used:            - En bloc resection: Surgery to remove the entire parathyroid gland and the capsule around it. Sometimes lymph nodes, half of the thyroid gland on the same side of the body as the cancer, and muscles, tissues, and a nerve in the neck are also removed.     -  Tumor debulking: A surgical procedure in which as much of the tumor as possible is removed. Some tumors cannot be completely removed.     -  Metastasectomy: Surgery to remove any cancer that has spread to distant organs such as the lung.             Surgery for parathyroid cancer sometimes damages nerves of the vocal cords. There are treatments to help with speech problems caused by this nerve damage.       Radiation therapy      Radiation therapy is a cancer treatment that uses high-energy x-rays or other types of radiation to kill cancer cells or keep them from growing. There are two types of radiation therapy:             -  External radiation therapy uses a machine outside the body to send radiation toward the cancer.     -  Internal radiation therapy uses a radioactive substance sealed in needles, seeds, wires, or catheters that are placed directly into or near the cancer.            The way the radiation therapy is given depends on the type and stage of the cancer being treated. External radiation therapy is used to treat parathyroid cancer.       Chemotherapy     Chemotherapy is a cancer treatment that uses drugs to stop the growth of cancer cells, either by killing the cells or by stopping them from dividing. When chemotherapy is taken by mouth or injected into a vein or muscle, the drugs enter the bloodstream and can reach cancer cells throughout the body (systemic chemotherapy). When chemotherapy is placed directly into the cerebrospinal fluid, an organ, or a body cavity such as the abdomen, the drugs mainly affect cancer cells in those areas (regional chemotherapy). The way the chemotherapy is given depends on the type and stage of the cancer being treated.       Supportive care     Supportive care is given to lessen the problems caused by the disease or its treatment. Supportive care for hypercalcemia caused by parathyroid cancer may include the following:            -  Intravenous (IV) fluids.     - Drugs that increase how much urine the body makes.     - Drugs that stop the body from absorbing calcium from the food we eat.     - Drugs that stop the parathyroid gland from making parathyroid hormone.\\n                \\n                \\n                    New types of treatment are being tested in clinical trials.\\n                    Information about clinical trials is available from the NCI website.\\n                \\n                \\n                    Patients may want to think about taking part in a clinical trial.\\n                    For some patients, taking part in a clinical trial may be the best treatment choice. Clinical trials are part of the cancer research process. Clinical trials are done to find out if new cancer treatments are safe and effective or better than the standard treatment.   Many of today's standard treatments for cancer are based on earlier clinical trials. Patients who take part in a clinical trial may receive the standard treatment or be among the first to receive a new treatment.   Patients who take part in clinical trials also help improve the way cancer will be treated in the future. Even when clinical trials do not lead to effective new treatments, they often answer important questions and help move research forward.\\n                \\n                \\n                    Patients can enter clinical trials before, during, or after starting their cancer treatment.\\n                    Some clinical trials only include patients who have not yet received treatment. Other trials test treatments for patients whose cancer has not gotten better. There are also clinical trials that test new ways to stop cancer from recurring (coming back) or reduce the side effects of cancer treatment.   Clinical trials are taking place in many parts of the country. See the Treatment Options section that follows for links to current treatment clinical trials. These have been retrieved from NCI's listing of clinical trials.\\n                \\n                \\n                    Follow-up tests may be needed.\\n                    Some of the tests that were done to diagnose the cancer or to find out the stage of the cancer may be repeated. Some tests will be repeated in order to see how well the treatment is working. Decisions about whether to continue, change, or stop treatment may be based on the results of these tests.   Some of the tests will continue to be done from time to time after treatment has ended. The results of these tests can show if your condition has changed or if the cancer has recurred (come back). These tests are sometimes called follow-up tests or check-ups.   Parathyroid cancer often recurs. Patients should have regular check-ups for the rest of their lives, to find and treat recurrences early.\\n                \\n\\t\\t\\t        \\n\\t\\t\\t            Treatment Options for Parathyroid Cancer\\n\\t\\t\\t            \\n\\t\\t\\t                \\n\\t\\t\\t                    Localized Parathyroid Cancer\\n\\t\\t\\t                    Treatment of localized parathyroid cancer may include the following:         -  Surgery (en bloc resection).    - Surgery followed by radiation therapy.    - Radiation therapy.    -  Supportive care to treat hypercalcemia (too much calcium in the blood).        Check the list of NCI-supported cancer clinical trials that are now accepting patients with localized parathyroid cancer. For more specific results, refine the search by using other search features, such as the location of the trial, the type of treatment, or the name of the drug. Talk with your doctor about clinical trials that may be right for you. General information about clinical trials is available from the NCI website.\\n\\t\\t\\t                \\n\\t\\t\\t                \\n\\t\\t\\t                    Metastatic Parathyroid Cancer\\n\\t\\t\\t                    Treatment of metastatic parathyroid cancer may include the following:         -  Surgery (metastasectomy) to remove cancer from the places where it has spread.    - Surgery followed by radiation therapy.    - Radiation therapy.    -  Chemotherapy.     -  Supportive care to treat hypercalcemia (too much calcium in the blood).        Check the list of NCI-supported cancer clinical trials that are now accepting patients with metastatic parathyroid cancer. For more specific results, refine the search by using other search features, such as the location of the trial, the type of treatment, or the name of the drug. Talk with your doctor about clinical trials that may be right for you. General information about clinical trials is available from the NCI website.\\n\\t\\t\\t                \\n\\t\\t\\t                \\n\\t\\t\\t                    Recurrent Parathyroid Cancer\\n\\t\\t\\t                    Treatment of recurrent parathyroid cancer may include the following:         -  Surgery (metastasectomy) to remove cancer from the places where it has recurred.    - Surgery (tumor debulking).    - Surgery followed by radiation therapy.    - Radiation therapy.    -  Chemotherapy.     -  Supportive care to treat hypercalcemia (too much calcium in the blood).        Check the list of NCI-supported cancer clinical trials that are now accepting patients with recurrent parathyroid cancer. For more specific results, refine the search by using other search features, such as the location of the trial, the type of treatment, or the name of the drug. Talk with your doctor about clinical trials that may be right for you. General information about clinical trials is available from the NCI website.\"}\n",
      "{'text': '### Instruction: What are the stages of Testicular Cancer ? ### Assistant: Key Points\\n                    - After testicular cancer has been diagnosed, tests are done to find out if cancer cells have spread within the testicles or to other parts of the body.     - There are three ways that cancer spreads in the body.    - Cancer may spread from where it began to other parts of the body.    - The following stages are used for testicular cancer:         - Stage 0 (Testicular Intraepithelial Neoplasia)     - Stage I     - Stage II     - Stage III\\n                \\n                \\n                    After testicular cancer has been diagnosed, tests are done to find out if cancer cells have spread within the testicles or to other parts of the body.\\n                    The process used to find out if cancer has spread within the testicles or to other parts of the body is called staging. The information gathered from the staging process determines the stage of the disease. It is important to know the stage in order to plan treatment.    The following tests and procedures may be used in the staging process:         -   Chest x-ray : An x-ray of the organs and bones inside the chest. An x-ray is a type of energy beam that can go through the body and onto film, making a picture of areas inside the body.    -   CT scan (CAT scan): A procedure that makes a series of detailed pictures of areas inside the body, taken from different angles. The pictures are made by a computer linked to an x-ray machine. A dye may be injected into a vein or swallowed to help the organs or tissues show up more clearly. This procedure is also called computed tomography, computerized tomography, or computerized axial tomography.    -   PET scan (positron emission tomography scan): A procedure to find malignant tumor cells in the body. A small amount of radioactive glucose (sugar) is injected into a vein. The PET scanner rotates around the body and makes a picture of where glucose is being used in the body. Malignant tumor cells show up brighter in the picture because they are more active and take up more glucose than normal cells do.     -   MRI (magnetic resonance imaging): A procedure that uses a magnet, radio waves, and a computer to make a series of detailed pictures of areas inside the body. This procedure is also called nuclear magnetic resonance imaging (NMRI).    -   Abdominal lymph node dissection : A surgical procedure in which lymph nodes in the abdomen are removed and a sample of tissue is checked under a microscope for signs of cancer. This procedure is also called lymphadenectomy. For patients with nonseminoma, removing the lymph nodes may help stop the spread of disease. Cancer cells in the lymph nodes of seminoma patients can be treated with radiation therapy.     -   Serum tumor marker test : A procedure in which a sample of blood is examined to measure the amounts of certain substances released into the blood by organs, tissues, or tumor cells in the body. Certain substances are linked to specific types of cancer when found in increased levels in the blood. These are called tumor markers. The following 3 tumor markers are used in staging testicular cancer:               -  Alpha-fetoprotein (AFP)      -  Beta-human chorionic gonadotropin (-hCG).       -  Lactate dehydrogenase (LDH).         Tumor marker levels are measured again, after inguinal orchiectomy and biopsy, in order to determine the stage of the cancer. This helps to show if all of the cancer has been removed or if more treatment is needed. Tumor marker levels are also measured during follow-up as a way of checking if the cancer has come back.\\n                \\n                \\n                    There are three ways that cancer spreads in the body.\\n                    Cancer can spread through tissue, the lymph system, and the blood:         - Tissue. The cancer spreads from where it began by growing into nearby areas.     - Lymph system. The cancer spreads from where it began by getting into the lymph system. The cancer travels through the lymph vessels to other parts of the body.     - Blood. The cancer spreads from where it began by getting into the blood. The cancer travels through the blood vessels to other parts of the body.\\n                \\n                \\n                    Cancer may spread from where it began to other parts of the body.\\n                    When cancer spreads to another part of the body, it is called metastasis. Cancer cells break away from where they began (the primary tumor) and travel through the lymph system or blood.         - Lymph system. The cancer gets into the lymph system, travels through the lymph vessels, and forms a tumor (metastatic tumor) in another part of the body.    - Blood. The cancer gets into the blood, travels through the blood vessels, and forms a tumor (metastatic tumor) in another part of the body.        The metastatic tumor is the same type of cancer as the primary tumor. For example, if testicular cancer spreads to the lung, the cancer cells in the lung are actually testicular cancer cells. The disease is metastatic testicular cancer, not lung cancer.\\n                \\n                \\n                    The following stages are used for testicular cancer:\\n                    Stage 0 (Testicular Intraepithelial Neoplasia)    In stage 0, abnormal cells are found in the tiny tubules where the sperm cells begin to develop. These abnormal cells may become cancer and spread into nearby normal tissue. All tumor marker levels are normal. Stage 0 is also called testicular intraepithelial neoplasia and testicular intratubular germ cell neoplasia.        Stage I    In stage I, cancer has formed. Stage I is divided into stage IA, stage IB, and stage IS and is determined after an inguinal orchiectomy is done.            - In stage IA, cancer is in the testicle and epididymis and may have spread to the inner layer of the membrane surrounding the testicle. All tumor marker levels are normal.     - In stage IB, cancer:                   -  is in the testicle and the epididymis and has spread to the blood vessels or lymph vessels in the testicle; or       - has spread to the outer layer of the membrane surrounding the testicle; or       - is in the spermatic cord or the scrotum and may be in the blood vessels or lymph vessels of the testicle.           All tumor marker levels are normal.     - In stage IS, cancer is found anywhere within the testicle, spermatic cord, or the scrotum and either:                  - all tumor marker levels are slightly above normal; or       - one or more tumor marker levels are moderately above normal or high.                          Stage II     Stage II is divided into stage IIA, stage IIB, and stage IIC and is determined after an inguinal orchiectomy is done.            - In stage IIA, cancer:                   - is anywhere within the testicle, spermatic cord, or scrotum; and       - has spread to up to 5 lymph nodes in the abdomen, none larger than 2 centimeters.           All tumor marker levels are normal or slightly above normal.     - In stage IIB, cancer is anywhere within the testicle, spermatic cord, or scrotum; and either:                  - has spread to up to 5 lymph nodes in the abdomen; at least one of the lymph nodes is larger than 2 centimeters, but none are larger than 5 centimeters; or       - has spread to more than 5 lymph nodes; the lymph nodes are not larger than 5 centimeters.           All tumor marker levels are normal or slightly above normal.     - In stage IIC, cancer:                  - is anywhere within the testicle, spermatic cord, or scrotum; and       - has spread to a lymph node in the abdomen that is larger than 5 centimeters.           All tumor marker levels are normal or slightly above normal.              Stage III     Stage III is divided into stage IIIA, stage IIIB, and stage IIIC and is determined after an inguinal orchiectomy is done.            - In stage IIIA, cancer:                  - is anywhere within the testicle, spermatic cord, or scrotum; and       - may have spread to one or more lymph nodes in the abdomen; and       - has spread to distant lymph nodes or to the lungs.            Tumor marker levels may range from normal to slightly above normal.     - In stage IIIB, cancer:                  - is anywhere within the testicle, spermatic cord, or scrotum; and       - may have spread to one or more lymph nodes in the abdomen, to distant lymph nodes, or to the lungs.           The level of one or more tumor markers is moderately above normal.     - In stage IIIC, cancer:                  - is anywhere within the testicle, spermatic cord, or scrotum; and       - may have spread to one or more lymph nodes in the abdomen, to distant lymph nodes, or to the lungs.            The level of one or more tumor markers is high. or Cancer:                  - is anywhere within the testicle, spermatic cord, or scrotum; and       - may have spread to one or more lymph nodes in the abdomen; and       - has not spread to distant lymph nodes or the lung but has spread to other parts of the body.           Tumor marker levels may range from normal to high.'}\n",
      "{'text': '### Instruction: What are the stages of Male Breast Cancer ? ### Assistant: Key Points\\n                    - After breast cancer has been diagnosed, tests are done to find out if cancer cells have spread within the breast or to other parts of the body.    - There are three ways that cancer spreads in the body.    - Cancer may spread from where it began to other parts of the body.    - The following stages are used for male breast cancer:         - Stage 0 (carcinoma in situ)     - Stage I      - Stage II     - Stage IIIA     - Stage IIIB     - Stage IIIC     - Stage IV\\n                \\n                \\n                    After breast cancer has been diagnosed, tests are done to find out if cancer cells have spread within the breast or to other parts of the body.\\n                    After breast cancer has been diagnosed, tests are done to find out if cancer cells have spread within the breast or to other parts of the body. This process is called staging. The information gathered from the staging process determines the stage of the disease. It is important to know the stage in order to plan treatment. Breast cancer in men is staged the same as it is in women. The spread of cancer from the breast to lymph nodes and other parts of the body appears to be similar in men and women.   The following tests and procedures may be used in the staging process:         -   Sentinel lymph node biopsy : The removal of the sentinel lymph node during surgery. The sentinel lymph node is the first lymph node to receive lymphatic drainage from a tumor. It is the first lymph node the cancer is likely to spread to from the tumor. A radioactive substance and/or blue dye is injected near the tumor. The substance or dye flows through the lymph ducts to the lymph nodes. The first lymph node to receive the substance or dye is removed. A pathologist views the tissue under a microscope to look for cancer cells. If cancer cells are not found, it may not be necessary to remove more lymph nodes.     -   Chest x-ray : An x-ray of the organs and bones inside the chest. An x-ray is a type of energy beam that can go through the body and onto film, making a picture of areas inside the body.    -   CT scan (CAT scan): A procedure that makes a series of detailed pictures of areas inside the body, taken from different angles. The pictures are made by a computer linked to an x-ray machine. A dye may be injected into a vein or swallowed to help the organs or tissues show up more clearly. This procedure is also called computed tomography, computerized tomography, or computerized axial tomography.     -   Bone scan : A procedure to check if there are rapidly dividing cells, such as cancer cells, in the bone. A very small amount of radioactive material is injected into a vein and travels through the bloodstream. The radioactive material collects in the bones and is detected by a scanner.    -   PET scan (positron emission tomography scan): A procedure to find malignant tumor cells in the body. A small amount of radioactive glucose (sugar) is injected into a vein. The PET scanner rotates around the body and makes a picture of where glucose is being used in the body. Malignant tumor cells show up brighter in the picture because they are more active and take up more glucose than normal cells do.\\n                \\n                \\n                    There are three ways that cancer spreads in the body.\\n                    Cancer can spread through tissue, the lymph system, and the blood:         - Tissue. The cancer spreads from where it began by growing into nearby areas.     - Lymph system. The cancer spreads from where it began by getting into the lymph system. The cancer travels through the lymph vessels to other parts of the body.     - Blood. The cancer spreads from where it began by getting into the blood. The cancer travels through the blood vessels to other parts of the body.\\n                \\n                \\n                    Cancer may spread from where it began to other parts of the body.\\n                    When cancer spreads to another part of the body, it is called metastasis. Cancer cells break away from where they began (the primary tumor) and travel through the lymph system or blood.         - Lymph system. The cancer gets into the lymph system, travels through the lymph vessels, and forms a tumor (metastatic tumor) in another part of the body.    - Blood. The cancer gets into the blood, travels through the blood vessels, and forms a tumor (metastatic tumor) in another part of the body.        The metastatic tumor is the same type of cancer as the primary tumor. For example, if breast cancer spreads to the bone, the cancer cells in the bone are actually breast cancer cells. The disease is metastatic breast cancer, not bone cancer.\\n                \\n                \\n                    The following stages are used for male breast cancer:\\n                    This section describes the stages of breast cancer. The breast cancer stage is based on the results of testing that is done on the tumor and lymph nodes removed during surgery and other tests.     Stage 0 (carcinoma in situ)    There are 3 types of breast carcinoma in situ:            -  Ductal carcinoma in situ (DCIS) is a noninvasive condition in which abnormal cells are found in the lining of a breast duct. The abnormal cells have not spread outside the duct to other tissues in the breast. In some cases, DCIS may become invasive cancer and spread to other tissues. At this time, there is no way to know which lesions could become invasive.     -  Paget disease of the nipple is a condition in which abnormal cells are found in the nipple only.      -  Lobular carcinoma in situ (LCIS) is a condition in which abnormal cells are found in the lobules of the breast. This condition has not been seen in men.               Stage I     In stage I, cancer has formed. Stage I is divided into stages IA and IB.            - In stage IA, the tumor is 2 centimeters or smaller. Cancer has not spread outside the breast.     - In stage IB, small clusters of breast cancer cells (larger than 0.2 millimeter but not larger than 2 millimeters) are found in the lymph nodes and either:                  - no tumor is found in the breast; or       - the tumor is 2 centimeters or smaller.                         Stage II     Stage II is divided into stages IIA and IIB.            - In stage IIA                   - no tumor is found in the breast or the tumor is 2 centimeters or smaller. Cancer (larger than 2 millimeters) is found in 1 to 3 axillary lymph nodes or in the lymph nodes near the breastbone (found during a sentinel lymph node biopsy); or        - the tumor is larger than 2 centimeters but not larger than 5 centimeters. Cancer has not spread to the lymph nodes.                - In stage IIB, the tumor is:                  - larger than 2 centimeters but not larger than 5 centimeters. Small clusters of breast cancer cells (larger than 0.2 millimeter but not larger than 2 millimeters) are found in the lymph nodes; or        - larger than 2 centimeters but not larger than 5 centimeters. Cancer has spread to 1 to 3 axillary lymph nodes or to the lymph nodes near the breastbone (found during a sentinel lymph node biopsy); or        - larger than 5 centimeters. Cancer has not spread to the lymph nodes.                          Stage IIIA    In stage IIIA:            - no tumor is found in the breast or the tumor may be any size. Cancer is found in 4 to 9 axillary lymph nodes or in the lymph nodes near the breastbone (found during imaging tests or a physical exam); or      - the tumor is larger than 5 centimeters. Small clusters of breast cancer cells (larger than 0.2 millimeter but not larger than 2 millimeters) are found in the lymph nodes; or      - the tumor is larger than 5 centimeters. Cancer has spread to 1 to 3 axillary lymph nodes or to the lymph nodes near the breastbone (found during a sentinel lymph node biopsy).               Stage IIIB    In stage IIIB, the tumor may be any size and cancer has spread to the chest wall and/or to the skin of the breast and caused swelling or an ulcer. Also, cancer may have spread to :            - up to 9 axillary lymph nodes; or     - the lymph nodes near the breastbone.           Cancer that has spread to the skin of the breast may also be inflammatory breast cancer. See the section on Inflammatory Male Breast Cancer for more information.       Stage IIIC    In stage IIIC, no tumor is found in the breast or the tumor may be any size. Cancer may have spread to the skin of the breast and caused swelling or an ulcer and/or has spread to the chest wall. Also, cancer has spread to:             - 10 or more axillary lymph nodes; or     -  lymph nodes above or below the collarbone; or     - axillary lymph nodes and lymph nodes near the breastbone.           Cancer that has spread to the skin of the breast may also be inflammatory breast cancer. See the section on Inflammatory Male Breast Cancer for more information.    For treatment, stage IIIC breast cancer is divided into operable and inoperable stage IIIC.        Stage IV    In stage IV, cancer has spread to other organs of the body, most often the bones, lungs, liver, or brain.'}\n",
      "{'text': \"### Instruction: What are the treatments for Small Intestine Cancer ? ### Assistant: Key Points\\n                    - There are different types of treatment for patients with small intestine cancer.    - Three types of standard treatment are used:         -  Surgery      -  Radiation therapy      -  Chemotherapy         - New types of treatment are being tested in clinical trials.          - Biologic therapy     - Radiation therapy with radiosensitizers         - Patients may want to think about taking part in a clinical trial.    - Patients can enter clinical trials before, during, or after starting their cancer treatment.    - Follow-up tests may be needed.\\n                \\n                \\n                    There are different types of treatment for patients with small intestine cancer.\\n                    Different types of treatments are available for patients with small intestine cancer. Some treatments are standard (the currently used treatment), and some are being tested in clinical trials. A treatment clinical trial is a research study meant to help improve current treatments or obtain information on new treatments for patients with cancer. When clinical trials show that a new treatment is better than the standard treatment, the new treatment may become the standard treatment. Patients may want to think about taking part in a clinical trial. Some clinical trials are open only to patients who have not started treatment.\\n                \\n                \\n                    Three types of standard treatment are used:\\n                    Surgery      Surgery is the most common treatment of small intestine cancer. One of the following types of surgery may be done:            -  Resection: Surgery to remove part or all of an organ that contains cancer. The resection may include the small intestine and nearby organs (if the cancer has spread). The doctor may remove the section of the small intestine that contains cancer and perform an anastomosis (joining the cut ends of the intestine together). The doctor will usually remove lymph nodes near the small intestine and examine them under a microscope to see whether they contain cancer.     -  Bypass: Surgery to allow food in the small intestine to go around (bypass) a tumor that is blocking the intestine but cannot be removed.            Even if the doctor removes all the cancer that can be seen at the time of the surgery, some patients may be given radiation therapy after surgery to kill any cancer cells that are left. Treatment given after the surgery, to lower the risk that the cancer will come back, is called adjuvant therapy.        Radiation therapy     Radiation therapy is a cancer treatment that uses high-energy x-rays or other types of radiation to kill cancer cells or keep them from growing. There are two types of radiation therapy:            -  External radiation therapy uses a machine outside the body to send radiation toward the cancer.     -  Internal radiation therapy uses a radioactive substance sealed in needles, seeds, wires, or catheters that are placed directly into or near the cancer.            The way the radiation therapy is given depends on the type of the cancer being treated. External radiation therapy is used to treat small intestine cancer.         Chemotherapy      Chemotherapy is a cancer treatment that uses drugs to stop the growth of cancer cells, either by killing the cells or by stopping them from dividing. When chemotherapy is taken by mouth or injected into a vein or muscle, the drugs enter the bloodstream and can reach cancer cells throughout the body (systemic chemotherapy). When chemotherapy is placed directly into the cerebrospinal fluid, an organ, or a body cavity such as the abdomen, the drugs mainly affect cancer cells in those areas (regional chemotherapy). The way the chemotherapy is given depends on the type and stage of the cancer being treated.\\n                \\n                \\n                    New types of treatment are being tested in clinical trials.\\n                    This summary section describes treatments that are being studied in clinical trials. It may not mention every new treatment being studied. Information about clinical trials is available from the NCI website.     Biologic therapy     Biologic therapy is a treatment that uses the patient's immune system to fight cancer. Substances made by the body or made in a laboratory are used to boost, direct, or restore the body's natural defenses against cancer. This type of cancer treatment is also called biotherapy or immunotherapy.       Radiation therapy with radiosensitizers      Radiosensitizers are drugs that make tumor cells more sensitive to radiation therapy. Combining radiation therapy with radiosensitizers may kill more tumor cells.\\n                \\n                \\n                    Patients may want to think about taking part in a clinical trial.\\n                    For some patients, taking part in a clinical trial may be the best treatment choice. Clinical trials are part of the cancer research process. Clinical trials are done to find out if new cancer treatments are safe and effective or better than the standard treatment.   Many of today's standard treatments for cancer are based on earlier clinical trials. Patients who take part in a clinical trial may receive the standard treatment or be among the first to receive a new treatment.   Patients who take part in clinical trials also help improve the way cancer will be treated in the future. Even when clinical trials do not lead to effective new treatments, they often answer important questions and help move research forward.\\n                \\n                \\n                    Patients can enter clinical trials before, during, or after starting their cancer treatment.\\n                    Some clinical trials only include patients who have not yet received treatment. Other trials test treatments for patients whose cancer has not gotten better. There are also clinical trials that test new ways to stop cancer from recurring (coming back) or reduce the side effects of cancer treatment.   Clinical trials are taking place in many parts of the country. See the Treatment Options section that follows for links to current treatment clinical trials. These have been retrieved from NCI's listing of clinical trials.\\n                \\n                \\n                    Follow-up tests may be needed.\\n                    Some of the tests that were done to diagnose the cancer or to find out the stage of the cancer may be repeated. Some tests will be repeated in order to see how well the treatment is working. Decisions about whether to continue, change, or stop treatment may be based on the results of these tests.   Some of the tests will continue to be done from time to time after treatment has ended. The results of these tests can show if your condition has changed or if the cancer has recurred (come back). These tests are sometimes called follow-up tests or check-ups.\\n                \\n                \\n            \\t\\tTreatment Options for Small Intestine Cancer\\n            \\t\\t\\n                \\t\\t\\n                    \\t\\tSmall Intestine Adenocarcinoma\\n                    \\t\\tWhen possible, treatment of small intestine adenocarcinoma will be surgery to remove the tumor and some of the normal tissue around it.   Treatment of small intestine adenocarcinoma that cannot be removed by surgery may include the following:         - Surgery to bypass the tumor.    -  Radiation therapy as palliative therapy to relieve symptoms and improve the patient's quality of life.    - A clinical trial of radiation therapy with radiosensitizers, with or without chemotherapy.    - A clinical trial of new anticancer drugs.    - A clinical trial of biologic therapy.         Check the list of NCI-supported cancer clinical trials that are now accepting patients with small intestine adenocarcinoma. For more specific results, refine the search by using other search features, such as the location of the trial, the type of treatment, or the name of the drug. Talk with your doctor about clinical trials that may be right for you. General information about clinical trials is available from the NCI website.\\n                \\t\\t\\n                \\t\\t\\n                    \\t\\tSmall Intestine Leiomyosarcoma\\n                    \\t\\tWhen possible, treatment of small intestine leiomyosarcoma will be surgery to remove the tumor and some of the normal tissue around it.   Treatment of small intestine leiomyosarcoma that cannot be removed by surgery may include the following:         - Surgery (to bypass the tumor) and radiation therapy.    - Surgery, radiation therapy, or chemotherapy as palliative therapy to relieve symptoms and improve the patient's quality of life.    - A clinical trial of new anticancer drugs.    - A clinical trial of biologic therapy.         Check the list of NCI-supported cancer clinical trials that are now accepting patients with small intestine leiomyosarcoma. For more specific results, refine the search by using other search features, such as the location of the trial, the type of treatment, or the name of the drug. Talk with your doctor about clinical trials that may be right for you. General information about clinical trials is available from the NCI website.\\n                \\t\\t\\n                \\t\\n                    Recurrent Small Intestine Cancer\\n                    Treatment of recurrent small intestine cancer that has spread to other parts of the body is usually a clinical trial of new anticancer drugs or biologic therapy.   Treatment of locally recurrent small intestine cancer may include the following:         -  Surgery.    -  Radiation therapy or chemotherapy as palliative therapy to relieve symptoms and improve the patient's quality of life.    - A clinical trial of radiation therapy with radiosensitizers, with or without chemotherapy.        Check the list of NCI-supported cancer clinical trials that are now accepting patients with recurrent small intestine cancer. For more specific results, refine the search by using other search features, such as the location of the trial, the type of treatment, or the name of the drug. Talk with your doctor about clinical trials that may be right for you. General information about clinical trials is available from the NCI website.\"}\n",
      "{'text': \"### Instruction: What are the treatments for Gallbladder Cancer ? ### Assistant: Key Points\\n                    - There are different types of treatment for patients with gallbladder cancer.    - Three types of standard treatment are used:         - Surgery     - Radiation therapy     - Chemotherapy        - New types of treatment are being tested in clinical trials.          - Radiation sensitizers        - Patients may want to think about taking part in a clinical trial.    - Patients can enter clinical trials before, during, or after starting their cancer treatment.    - Follow-up tests may be needed.\\n                \\n                \\n                    There are different types of treatment for patients with gallbladder cancer.\\n                    Different types of treatments are available for patients with gallbladder cancer. Some treatments are standard (the currently used treatment), and some are being tested in clinical trials. A treatment clinical trial is a research study meant to help improve current treatments or obtain information on new treatments for patients with cancer. When clinical trials show that a new treatment is better than the standard treatment, the new treatment may become the standard treatment. Patients may want to think about taking part in a clinical trial. Some clinical trials are open only to patients who have not started treatment.\\n                \\n                \\n                    Three types of standard treatment are used:\\n                    Surgery    Gallbladder cancer may be treated with a cholecystectomy, surgery to remove the gallbladder and some of the tissues around it. Nearby lymph nodes may be removed. A laparoscope is sometimes used to guide gallbladder surgery. The laparoscope is attached to a video camera and inserted through an incision (port) in the abdomen. Surgical instruments are inserted through other ports to perform the surgery. Because there is a risk that gallbladder cancer cells may spread to these ports, tissue surrounding the port sites may also be removed.    If the cancer has spread and cannot be removed, the following types of palliative surgery may relieve symptoms:            - Surgical biliary bypass: If the tumor is blocking the small intestine and bile is building up in the gallbladder, a biliary bypass may be done. During this operation, the gallbladder or bile duct will be cut and sewn to the small intestine to create a new pathway around the blocked area.      -  Endoscopic stent placement: If the tumor is blocking the bile duct, surgery may be done to put in a stent (a thin, flexible tube) to drain bile that has built up in the area. The stent may be placed through a catheter that drains to the outside of the body or the stent may go around the blocked area and drain the bile into the small intestine.      -  Percutaneous transhepatic biliary drainage: A procedure done to drain bile when there is a blockage and endoscopic stent placement is not possible. An x-ray of the liver and bile ducts is done to locate the blockage. Images made by ultrasound are used to guide placement of a stent, which is left in the liver to drain bile into the small intestine or a collection bag outside the body. This procedure may be done to relieve jaundice before surgery.              Radiation therapy     Radiation therapy is a cancer treatment that uses high-energy x-rays or other types of radiation to kill cancer cells or keep them from growing. There are two types of radiation therapy:            -  External radiation therapy uses a machine outside the body to send radiation toward the cancer.     -  Internal radiation therapy uses a radioactive substance sealed in needles, seeds, wires, or catheters that are placed directly into or near the cancer.           The way the radiation therapy is given depends on the type and stage of the cancer being treated. External radiation therapy is used to treat gallbladder cancer.       Chemotherapy     Chemotherapy is a cancer treatment that uses drugs to stop the growth of cancer cells, either by killing the cells or by stopping the cells from dividing. When chemotherapy is taken by mouth or injected into a vein or muscle, the drugs enter the bloodstream and can reach cancer cells throughout the body (systemic chemotherapy). When chemotherapy is placed directly into the cerebrospinal fluid, an organ, or a body cavity such as the abdomen, the drugs mainly affect cancer cells in those areas (regional chemotherapy). The way the chemotherapy is given depends on the type and stage of the cancer being treated.\\n                \\n                \\n                    New types of treatment are being tested in clinical trials.\\n                    This summary section describes treatments that are being studied in clinical trials. It may not mention every new treatment being studied. Information about clinical trials is available from the NCI website.     Radiation sensitizers    Clinical trials are studying ways to improve the effect of radiation therapy on tumor cells, including the following:            -  Hyperthermia therapy: A treatment in which body tissue is exposed to high temperatures to damage and kill cancer cells or to make cancer cells more sensitive to the effects of radiation therapy and certain anticancer drugs.     -  Radiosensitizers: Drugs that make tumor cells more sensitive to radiation therapy. Giving radiation therapy together with radiosensitizers may kill more tumor cells.\\n                \\n                \\n                    Patients may want to think about taking part in a clinical trial.\\n                    For some patients, taking part in a clinical trial may be the best treatment choice. Clinical trials are part of the cancer research process. Clinical trials are done to find out if new cancer treatments are safe and effective or better than the standard treatment.   Many of today's standard treatments for cancer are based on earlier clinical trials. Patients who take part in a clinical trial may receive the standard treatment or be among the first to receive a new treatment.   Patients who take part in clinical trials also help improve the way cancer will be treated in the future. Even when clinical trials do not lead to effective new treatments, they often answer important questions and help move research forward.\\n                \\n                \\n                    Patients can enter clinical trials before, during, or after starting their cancer treatment.\\n                    Some clinical trials only include patients who have not yet received treatment. Other trials test treatments for patients whose cancer has not gotten better. There are also clinical trials that test new ways to stop cancer from recurring (coming back) or reduce the side effects of cancer treatment.   Clinical trials are taking place in many parts of the country. See the Treatment Options section that follows for links to current treatment clinical trials. These have been retrieved from NCI's listing of clinical trials.\\n                \\n                \\n                    Follow-up tests may be needed.\\n                    Some of the tests that were done to diagnose the cancer or to find out the stage of the cancer may be repeated. Some tests will be repeated in order to see how well the treatment is working. Decisions about whether to continue, change, or stop treatment may be based on the results of these tests.   Some of the tests will continue to be done from time to time after treatment has ended. The results of these tests can show if your condition has changed or if the cancer has recurred (come back). These tests are sometimes called follow-up tests or check-ups.\\n                \\n\\t\\t        \\n\\t\\t            Treatment Options for Gallbladder Cancer\\n\\t\\t            \\n\\t\\t                \\n\\t\\t                    Localized Gallbladder Cancer\\n\\t\\t                    Treatment of localized gallbladder cancer may include the following:         -  Surgery to remove the gallbladder and some of the tissue around it. Part of the liver and nearby lymph nodes may also be removed. Radiation therapy with or without chemotherapy may follow surgery.    - Radiation therapy with or without chemotherapy.     - A clinical trial of radiation therapy with radiosensitizers.         Check the list of NCI-supported cancer clinical trials that are now accepting patients with localized gallbladder cancer. For more specific results, refine the search by using other search features, such as the location of the trial, the type of treatment, or the name of the drug. Talk with your doctor about clinical trials that may be right for you. General information about clinical trials is available from the NCI website.\\n\\t\\t                \\n\\t\\t                \\n\\t\\t                    Unresectable, Recurrent, or Metastatic Gallbladder Cancer\\n\\t\\t                    Treatment of unresectable, recurrent, or metastatic gallbladder cancer is usually within a clinical trial. Treatment may include the following:         -  Percutaneous transhepatic biliary drainage or the placement of stents to relieve symptoms caused by blocked bile ducts. This may be followed by radiation therapy as palliative treatment.    -  Surgery as palliative treatment to relieve symptoms caused by blocked bile ducts.    -  Chemotherapy.     - A clinical trial of new ways to give palliative radiation therapy, such as giving it together with hyperthermia therapy, radiosensitizers, or chemotherapy.     - A clinical trial of new drugs and drug combinations.         Check the list of NCI-supported cancer clinical trials that are now accepting patients with unresectable gallbladder cancer, recurrent gallbladder cancer and metastatic gallbladder cancer. For more specific results, refine the search by using other search features, such as the location of the trial, the type of treatment, or the name of the drug. Talk with your doctor about clinical trials that may be right for you. General information about clinical trials is available from the NCI website.\"}\n",
      "{'text': \"### Instruction: What are the treatments for Myelodysplastic/ Myeloproliferative Neoplasms ? ### Assistant: Key Points\\n                    - There are different types of treatment for patients with myelodysplastic/myeloproliferative neoplasms.    - Five types of standard treatment are used:         -  Chemotherapy      - Other drug therapy     - Stem cell transplant     -  Supportive care      - Targeted therapy        - New types of treatment are being tested in clinical trials.     - Patients may want to think about taking part in a clinical trial.    - Patients can enter clinical trials before, during, or after starting their cancer treatment.    - Follow-up tests may be needed.\\n                \\n                \\n                    There are different types of treatment for patients with myelodysplastic/myeloproliferative neoplasms.\\n                    Different types of treatments are available for patients with myelodysplastic /myeloproliferative neoplasms. Some treatments are standard (the currently used treatment), and some are being tested in clinical trials. A treatment clinical trial is a research study meant to help improve current treatments or obtain information on new treatments for patients with cancer. When clinical trials show that a new treatment is better than the standard treatment, the new treatment may become the standard treatment. Patients may want to think about taking part in a clinical trial. Some clinical trials are open only to patients who have not started treatment.\\n                \\n                \\n                    Five types of standard treatment are used:\\n                    Chemotherapy      Chemotherapy is a cancer treatment that uses drugs to stop the growth of cancer cells, either by killing the cells or by stopping them from dividing. When chemotherapy is taken by mouth or injected into a vein or muscle, the drugs enter the bloodstream and can reach cancer cells throughout the body (systemic chemotherapy). When chemotherapy is placed directly into the cerebrospinal fluid, an organ, or a body cavity such as the abdomen, the drugs mainly affect cancer cells in those areas (regional chemotherapy). The way the chemotherapy is given depends on the type and stage of the cancer being treated. Combination chemotherapy is treatment using more than one anticancer drug.    See Drugs Approved for Myeloproliferative Neoplasms for more information.       Other drug therapy     13-cis retinoic acid is a vitamin -like drug that slows the cancer's ability to make more cancer cells and changes the way these cells look and act.       Stem cell transplant     Stem cell transplant is a method of replacing blood -forming cells that are destroyed by chemotherapy. Stem cells (immature blood cells) are removed from the blood or bone marrow of the patient or a donor and are frozen and stored. After the chemotherapy is completed, the stored stem cells are thawed and given back to the patient through an infusion. These reinfused stem cells grow into (and restore) the body's blood cells.            Supportive care      Supportive care is given to lessen the problems caused by the disease or its treatment. Supportive care may include transfusion therapy or drug therapy, such as antibiotics to fight infection.       Targeted therapy     Targeted therapy is a cancer treatment that uses drugs or other substances to attack cancer cells without harming normal cells. Targeted therapy drugs called tyrosine kinase inhibitors (TKIs) are used to treat myelodysplastic/myeloproliferative neoplasm, unclassifiable. TKIs block the enzyme, tyrosine kinase, that causes stem cells to become more blood cells (blasts) than the body needs. Imatinib mesylate (Gleevec) is a TKI that may be used. Other targeted therapy drugs are being studied in the treatment of JMML.     See Drugs Approved for Myeloproliferative Neoplasms for more information.\\n                \\n                \\n                    New types of treatment are being tested in clinical trials.\\n                    Information about clinical trials is available from the NCI website.\\n                \\n                \\n                    Patients may want to think about taking part in a clinical trial.\\n                    For some patients, taking part in a clinical trial may be the best treatment choice. Clinical trials are part of the cancer research process. Clinical trials are done to find out if new cancer treatments are safe and effective or better than the standard treatment.   Many of today's standard treatments for cancer are based on earlier clinical trials. Patients who take part in a clinical trial may receive the standard treatment or be among the first to receive a new treatment.   Patients who take part in clinical trials also help improve the way cancer will be treated in the future. Even when clinical trials do not lead to effective new treatments, they often answer important questions and help move research forward.\\n                \\n                \\n                    Patients can enter clinical trials before, during, or after starting their cancer treatment.\\n                    Some clinical trials only include patients who have not yet received treatment. Other trials test treatments for patients whose cancer has not gotten better. There are also clinical trials that test new ways to stop cancer from recurring (coming back) or reduce the side effects of cancer treatment.   Clinical trials are taking place in many parts of the country. See the Treatment Options section that follows for links to current treatment clinical trials. These have been retrieved from NCI's listing of clinical trials.\\n                \\n                \\n                    Follow-up tests may be needed.\\n                    Some of the tests that were done to diagnose the cancer or to find out the stage of the cancer may be repeated. Some tests will be repeated in order to see how well the treatment is working. Decisions about whether to continue, change, or stop treatment may be based on the results of these tests.   Some of the tests will continue to be done from time to time after treatment has ended. The results of these tests can show if your condition has changed or if the cancer has recurred (come back). These tests are sometimes called follow-up tests or check-ups.\\n                \\n                 \\n\\t\\t\\t\\t\\t\\t\\t            Treatment Options for Myelodysplastic/ Myeloproliferative Neoplasms\\n\\t\\t\\t\\t\\t\\t\\t            \\n\\t\\t\\t\\t\\t\\t\\t                \\n\\t\\t\\t\\t\\t\\t\\t                    Chronic Myelomonocytic Leukemia\\n\\t\\t\\t\\t\\t\\t\\t                    Treatment of chronic myelomonocytic leukemia (CMML) may include the following:         -  Chemotherapy with one or more agents.    -  Stem cell transplant.    - A clinical trial of a new treatment.        Check the list of NCI-supported cancer clinical trials that are now accepting patients with chronic myelomonocytic leukemia. For more specific results, refine the search by using other search features, such as the location of the trial, the type of treatment, or the name of the drug. Talk with your doctor about clinical trials that may be right for you. General information about clinical trials is available from the NCI website.\\n\\t\\t\\t\\t\\t\\t\\t                \\n\\t\\t\\t\\t\\t\\t\\t                \\n\\t\\t\\t\\t\\t\\t\\t                    Juvenile Myelomonocytic Leukemia\\n\\t\\t\\t\\t\\t\\t\\t                    Treatment of juvenile myelomonocytic leukemia (JMML) may include the following:         -  Combination chemotherapy.    -  Stem cell transplant.    -  13-cis-retinoic acid therapy.    - A clinical trial of a new treatment, such as targeted therapy.        Check the list of NCI-supported cancer clinical trials that are now accepting patients with juvenile myelomonocytic leukemia. For more specific results, refine the search by using other search features, such as the location of the trial, the type of treatment, or the name of the drug. Talk with your doctor about clinical trials that may be right for you. General information about clinical trials is available from the NCI website.\\n\\t\\t\\t\\t\\t\\t\\t                \\n\\t\\t\\t\\t\\t\\t\\t                \\n\\t\\t\\t\\t\\t\\t\\t                    Atypical Chronic Myelogenous Leukemia\\n\\t\\t\\t\\t\\t\\t\\t                    Treatment of atypical chronic myelogenous leukemia (CML) may include chemotherapy.   Check the list of NCI-supported cancer clinical trials that are now accepting patients with atypical chronic myeloid leukemia, BCR-ABL1 negative. For more specific results, refine the search by using other search features, such as the location of the trial, the type of treatment, or the name of the drug. Talk with your doctor about clinical trials that may be right for you. General information about clinical trials is available from the NCI website.\\n\\t\\t\\t\\t\\t\\t\\t                \\n\\t\\t\\t\\t\\t\\t\\t                \\n\\t\\t\\t\\t\\t\\t\\t                    Myelodysplastic/ Myeloproliferative Neoplasm, Unclassifiable\\n\\t\\t\\t\\t\\t\\t\\t                    Because myelodysplastic /myeloproliferative neoplasm, unclassifiable (MDS/MPN-UC) is a rare disease, little is known about its treatment. Treatment may include the following:         -  Supportive care treatments to manage problems caused by the disease such as infection, bleeding, and anemia.     -  Targeted therapy (imatinib mesylate).        Check the list of NCI-supported cancer clinical trials that are now accepting patients with myelodysplastic/myeloproliferative neoplasm, unclassifiable. For more specific results, refine the search by using other search features, such as the location of the trial, the type of treatment, or the name of the drug. Talk with your doctor about clinical trials that may be right for you. General information about clinical trials is available from the NCI website.\"}\n"
     ]
    }
   ],
   "source": [
    "n = 10\n",
    "print(\"dataset:\")\n",
    "top_n = itertools.islice(dataset, n)\n",
    "for i in top_n:\n",
    "    print(i)\n"
   ]
  },
  {
   "cell_type": "markdown",
   "metadata": {
    "id": "J0o085_n9uro"
   },
   "source": [
    "## Model Download"
   ]
  },
  {
   "cell_type": "code",
   "execution_count": null,
   "metadata": {
    "id": "UKQSqvem9q2h"
   },
   "outputs": [],
   "source": [
    "from types import new_class\n",
    "# model\n",
    "base_model = \"microsoft/phi-2\" \n",
    "new_model = \"phi-2-bedoo96\" \n",
    "\n",
    "#tokeniser\n",
    "tokenizer = AutoTokenizer.from_pretrained(base_model, use_fast=True)\n",
    "tokenizer.pad_token = tokenizer.eos_token \n",
    "tokenizer.padding_side=\"right\"\n"
   ]
  },
  {
   "cell_type": "markdown",
   "metadata": {
    "id": "KFB9JyCXEmde"
   },
   "source": [
    "## Training"
   ]
  },
  {
   "cell_type": "code",
   "execution_count": 18,
   "metadata": {
    "id": "cqnMiOKK-vPM"
   },
   "outputs": [
    {
     "name": "stdout",
     "output_type": "stream",
     "text": [
      "Token loaded successfully\n"
     ]
    }
   ],
   "source": [
    "from dotenv import load_dotenv\n",
    "import os\n",
    "\n",
    "# Load environment variables from a .env file\n",
    "load_dotenv()\n",
    "token = os.getenv('HF_TOKEN')  \n",
    "\n",
    "# Check if the token was retrieved successfully\n",
    "if token:\n",
    "    print(\"Token loaded successfully\")\n",
    "else:\n",
    "    print(\"Token not found\")"
   ]
  },
  {
   "cell_type": "code",
   "execution_count": 19,
   "metadata": {
    "colab": {
     "base_uri": "https://localhost:8080/",
     "height": 49,
     "referenced_widgets": [
      "15852c018f5048bd8cf154535790ddea",
      "61511f1af6ce4283a03210c75af57018",
      "36bcc0d7f3c2408ebc8a4ebd33079b36",
      "3ff3c33b7ff846dcafd59daa9666f0cf",
      "3d7f43b227c24ac595cdb47514bb732f",
      "f399d7adaec240fb9a5acbf5576dad92",
      "e3416a3321c64bf2b8bc68ce320eebd9",
      "cf027c2a0cd544ee8b91cf3a83e9fc48",
      "6e351814c5864d4896a060d08c180e2d",
      "e32ef4de9f914444bd319e5b8cdd669d",
      "e1b75e902e134f8dba2e741ae5bbfc45"
     ]
    },
    "id": "tePPkE9MGa8x",
    "outputId": "eeb24e98-8575-4914-962b-d98f72d74ddf"
   },
   "outputs": [
    {
     "name": "stderr",
     "output_type": "stream",
     "text": [
      "Loading checkpoint shards: 100%|██████████| 2/2 [00:09<00:00,  4.55s/it]\n"
     ]
    }
   ],
   "source": [
    "#quantization du model\n",
    "bnb_config = BitsAndBytesConfig(\n",
    "    load_in_4bit=True, #on charge\n",
    "    bnb_4bit_quant_type=\"nf4\",\n",
    "    bnb_4bit_compute_dtype=torch.bfloat16,\n",
    "    bnb_4bit_use_double_quant=True,)\n",
    "\n",
    "\n",
    "# Intialize model\n",
    "model = AutoModelForCausalLM.from_pretrained(\n",
    "    base_model,  # model calling\n",
    "    quantization_config=bnb_config,\n",
    "    trust_remote_code=True,\n",
    "    device_map={\"\": 0},  # GPU usage)\n",
    ")\n",
    "\n",
    "\n",
    "model.config.use_cache = False\n",
    "model.config.pretraining_tp = 1 "
   ]
  },
  {
   "cell_type": "code",
   "execution_count": 20,
   "metadata": {
    "colab": {
     "base_uri": "https://localhost:8080/"
    },
    "id": "9qGRbXwGIP53",
    "outputId": "ca5dddd0-166b-4e36-fe73-0dbe31bbd53d"
   },
   "outputs": [
    {
     "name": "stdout",
     "output_type": "stream",
     "text": [
      "PhiForCausalLM(\n",
      "  (model): PhiModel(\n",
      "    (embed_tokens): Embedding(51200, 2560)\n",
      "    (embed_dropout): Dropout(p=0.0, inplace=False)\n",
      "    (layers): ModuleList(\n",
      "      (0-31): 32 x PhiDecoderLayer(\n",
      "        (self_attn): PhiSdpaAttention(\n",
      "          (q_proj): Linear4bit(in_features=2560, out_features=2560, bias=True)\n",
      "          (k_proj): Linear4bit(in_features=2560, out_features=2560, bias=True)\n",
      "          (v_proj): Linear4bit(in_features=2560, out_features=2560, bias=True)\n",
      "          (dense): Linear4bit(in_features=2560, out_features=2560, bias=True)\n",
      "          (rotary_emb): PhiRotaryEmbedding()\n",
      "        )\n",
      "        (mlp): PhiMLP(\n",
      "          (activation_fn): NewGELUActivation()\n",
      "          (fc1): Linear4bit(in_features=2560, out_features=10240, bias=True)\n",
      "          (fc2): Linear4bit(in_features=10240, out_features=2560, bias=True)\n",
      "        )\n",
      "        (input_layernorm): LayerNorm((2560,), eps=1e-05, elementwise_affine=True)\n",
      "        (resid_dropout): Dropout(p=0.1, inplace=False)\n",
      "      )\n",
      "    )\n",
      "    (final_layernorm): LayerNorm((2560,), eps=1e-05, elementwise_affine=True)\n",
      "    (rotary_emb): PhiRotaryEmbedding()\n",
      "  )\n",
      "  (lm_head): Linear(in_features=2560, out_features=51200, bias=True)\n",
      ")\n"
     ]
    }
   ],
   "source": [
    "# Model architecture Visualization\n",
    "print(model) "
   ]
  },
  {
   "cell_type": "code",
   "execution_count": 21,
   "metadata": {},
   "outputs": [
    {
     "name": "stdout",
     "output_type": "stream",
     "text": [
      "262364160\n"
     ]
    }
   ],
   "source": [
    "# print number of total trainable parameters\n",
    "total_trainable_params = sum(p.numel() for p in model.parameters() if p.requires_grad)\n",
    "print(total_trainable_params )"
   ]
  },
  {
   "cell_type": "markdown",
   "metadata": {
    "id": "DvrtLAxRVznO"
   },
   "source": [
    "## LoRA Configuration\n",
    "LoRA (Low-Rank Adaptation) is a technique for fine-tuning large pre-trained models efficiently by adjusting low-rank matrices, reducing computational cost while maintaining performance. Key parameters in LoRA configuration include:\n",
    "\n",
    "* **Rank:** Defines the dimensionality of low-rank matrices. A higher rank provides more flexibility, while a lower rank reduces computational cost but may limit capacity.\n",
    "* **Alpha:** A scaling factor that controls the influence of low-rank matrices on model parameters. A higher alpha increases their impact on the model.\n",
    "* **Bias:** Includes or excludes a bias term in the adaptation, helping the model adjust for shifts in data distribution.\n",
    "* Task Type: Specifies the task (e.g., classification, regression) for which the adaptation is being applied, aligning model adjustments to the specific requirements of the task.\n",
    "Target Modules: Specifies the layers or components of the model to adapt. This helps focus fine-tuning on the most important parts of the model, reducing unnecessary computational effort"
   ]
  },
  {
   "cell_type": "code",
   "execution_count": 22,
   "metadata": {
    "id": "u2oMIeDEVYQ9"
   },
   "outputs": [],
   "source": [
    "from peft import LoraConfig, prepare_model_for_kbit_training\n",
    "\n",
    "# Supposons que vous avez déjà un modèle chargé\n",
    "model.gradient_checkpointing_enable()\n",
    "model = prepare_model_for_kbit_training(model)\n"
   ]
  },
  {
   "cell_type": "code",
   "execution_count": 23,
   "metadata": {
    "id": "YHBVFx1nZbPh"
   },
   "outputs": [],
   "source": [
    "def print_trainable_parameters(model):\n",
    "    \"\"\"\n",
    "    Prints the number of trainable parameters in the model.\n",
    "    \"\"\"\n",
    "    trainable_params = 0\n",
    "    all_param = 0\n",
    "    for _, param in model.named_parameters():\n",
    "        all_param += param.numel()\n",
    "        if param.requires_grad:\n",
    "            trainable_params += param.numel()\n",
    "    print(\n",
    "        f\"trainable params: {trainable_params} || all params: {all_param} || trainable%: {100 * trainable_params / all_param}\"\n",
    "    )"
   ]
  },
  {
   "cell_type": "code",
   "execution_count": 24,
   "metadata": {
    "colab": {
     "base_uri": "https://localhost:8080/"
    },
    "id": "dlTcZvRuZ8IC",
    "outputId": "e7ece675-8df7-4424-9b9d-bdd0d814276a"
   },
   "outputs": [
    {
     "name": "stdout",
     "output_type": "stream",
     "text": [
      "trainable params: 94371840 || all params: 1615764480 || trainable%: 5.840692821765707\n"
     ]
    }
   ],
   "source": [
    "from peft import LoraConfig, get_peft_model\n",
    "\n",
    "# Configuration de LoRA\n",
    "perf_config = LoraConfig(\n",
    "    r=64, #nombre de rang\n",
    "    lora_alpha=16, #\n",
    "    lora_dropout=0.05, #\n",
    "    bias=\"none\", #\n",
    "    task_type=\"CAUSAL_LM\", \n",
    "    # Specifies which layers of the model to adapt during fine-tuning\n",
    "    target_modules=['q_proj','k_proj','v_proj','o_proj','gate_proj','dense','fc1','fc2',]\n",
    "    )\n",
    "\n",
    "# Applying the LoRA configuration to the model\n",
    "model = get_peft_model(model, perf_config)\n",
    "print_trainable_parameters(model)"
   ]
  },
  {
   "cell_type": "markdown",
   "metadata": {
    "id": "qvso3rpMb2dA"
   },
   "source": [
    "## Training Steps"
   ]
  },
  {
   "cell_type": "code",
   "execution_count": 25,
   "metadata": {
    "id": "buskZ3ICb1wK"
   },
   "outputs": [],
   "source": [
    "new_model = 'phi-22-bedoo96'"
   ]
  },
  {
   "cell_type": "code",
   "execution_count": 26,
   "metadata": {
    "id": "Db0krkm-cbB5"
   },
   "outputs": [],
   "source": [
    "# parameter configuration\n",
    "training_arguments = TrainingArguments(\n",
    "    output_dir=\"./phi-2-result\",\n",
    "    num_train_epochs=1,\n",
    "    per_device_train_batch_size=4, \n",
    "    gradient_accumulation_steps=1,\n",
    "\n",
    "    gradient_checkpointing=True,\n",
    "    max_grad_norm=0.3,\n",
    "\n",
    "    learning_rate=2e-4,\n",
    "    weight_decay=0.001,\n",
    "    optim=\"paged_adamw_8bit\",\n",
    "    lr_scheduler_type=\"linear\",\n",
    "    max_steps=-1,\n",
    "    warmup_ratio=0.03,\n",
    "    group_by_length=True,\n",
    "    save_steps=0,\n",
    "    logging_steps=15,\n",
    "    run_name='phi-22-bedoo96',\n",
    "    overwrite_output_dir=True,\n",
    "    report_to=\"wandb\"\n",
    ")"
   ]
  },
  {
   "cell_type": "code",
   "execution_count": 29,
   "metadata": {
    "colab": {
     "base_uri": "https://localhost:8080/",
     "height": 1000,
     "referenced_widgets": [
      "d0b64c35e5a947adb0ed3071ecedbc6c",
      "f745cb78404a46129d60dceeb216cf3a",
      "7346a47a570447f1b9239e62e2c854fe",
      "f8eed16798dd4b1683b9fef380810337",
      "30a39869e1ef4ed79e4f04ad4cec7677",
      "f01186f6ccea45e6a85d3491903d265f",
      "de0f1e72b086456fa7b574c618be3de1",
      "8072258470af49e799d7849d44c1daff",
      "313f3f9124a7438db7f84997d9b7d546",
      "836482c330db4a88acee7c8e94eb6100",
      "16659ab3b5cc40638312cda2c2e08b01",
      "2311db3e808b453c94754486f81a492f",
      "13d65255e226476abc13c5be96fa4615",
      "5a51d574d4df4ba38c0bd7f473db1150",
      "3b1f00b32f11454fb6b1f81705697dca",
      "f3673eff9982438f8bcb8ef24525b741",
      "8828168902db46239b0834ca947d8aee",
      "20adadbf5a1e46a58096799ff6ba649a",
      "0b60e1e9513a429c9e5d0231c628ab14",
      "59e99d638d494076900a59dd8a69df9f",
      "eb0fb19f0f35416fabea97bf7d412de8",
      "ce538f083f9e4b929738abfe63e40608"
     ]
    },
    "id": "u53U6mnLhBKv",
    "outputId": "48c6b10d-35cb-4c69-fe78-c3fcb69e0dda"
   },
   "outputs": [
    {
     "name": "stderr",
     "output_type": "stream",
     "text": [
      "/home/bedoo/NLP_HuggingFace/NLP/lib/python3.10/site-packages/huggingface_hub/utils/_deprecation.py:100: FutureWarning: Deprecated argument(s) used in '__init__': dataset_text_field, max_seq_length. Will not be supported from version '0.13.0'.\n",
      "\n",
      "Deprecated positional argument(s) used in SFTTrainer, please use the SFTConfig to set these arguments instead.\n",
      "  warnings.warn(message, FutureWarning)\n",
      "/home/bedoo/NLP_HuggingFace/NLP/lib/python3.10/site-packages/trl/trainer/sft_trainer.py:300: UserWarning: You passed a `max_seq_length` argument to the SFTTrainer, the value you passed will override the one in the `SFTConfig`.\n",
      "  warnings.warn(\n",
      "/home/bedoo/NLP_HuggingFace/NLP/lib/python3.10/site-packages/trl/trainer/sft_trainer.py:328: UserWarning: You passed a `dataset_text_field` argument to the SFTTrainer, the value you passed will override the one in the `SFTConfig`.\n",
      "  warnings.warn(\n",
      "\u001b[34m\u001b[1mwandb\u001b[0m: Using wandb-core as the SDK backend.  Please refer to https://wandb.me/wandb-core for more information.\n",
      "\u001b[34m\u001b[1mwandb\u001b[0m: Currently logged in as: \u001b[33mverneus96obed\u001b[0m (\u001b[33mverneus96obed-student\u001b[0m). Use \u001b[1m`wandb login --relogin`\u001b[0m to force relogin\n"
     ]
    },
    {
     "data": {
      "text/html": [
       "Tracking run with wandb version 0.18.7"
      ],
      "text/plain": [
       "<IPython.core.display.HTML object>"
      ]
     },
     "metadata": {},
     "output_type": "display_data"
    },
    {
     "data": {
      "text/html": [
       "Run data is saved locally in <code>/home/bedoo/NLP_HuggingFace/Finetuning_model_llm_data_medical/wandb/run-20241202_173434-wmw6f4h8</code>"
      ],
      "text/plain": [
       "<IPython.core.display.HTML object>"
      ]
     },
     "metadata": {},
     "output_type": "display_data"
    },
    {
     "data": {
      "text/html": [
       "Syncing run <strong><a href='https://wandb.ai/verneus96obed-student/huggingface/runs/wmw6f4h8' target=\"_blank\">phi-22-bedoo96</a></strong> to <a href='https://wandb.ai/verneus96obed-student/huggingface' target=\"_blank\">Weights & Biases</a> (<a href='https://wandb.me/developer-guide' target=\"_blank\">docs</a>)<br/>"
      ],
      "text/plain": [
       "<IPython.core.display.HTML object>"
      ]
     },
     "metadata": {},
     "output_type": "display_data"
    },
    {
     "data": {
      "text/html": [
       " View project at <a href='https://wandb.ai/verneus96obed-student/huggingface' target=\"_blank\">https://wandb.ai/verneus96obed-student/huggingface</a>"
      ],
      "text/plain": [
       "<IPython.core.display.HTML object>"
      ]
     },
     "metadata": {},
     "output_type": "display_data"
    },
    {
     "data": {
      "text/html": [
       " View run at <a href='https://wandb.ai/verneus96obed-student/huggingface/runs/wmw6f4h8' target=\"_blank\">https://wandb.ai/verneus96obed-student/huggingface/runs/wmw6f4h8</a>"
      ],
      "text/plain": [
       "<IPython.core.display.HTML object>"
      ]
     },
     "metadata": {},
     "output_type": "display_data"
    },
    {
     "data": {
      "text/html": [
       "\n",
       "    <div>\n",
       "      \n",
       "      <progress value='250' max='250' style='width:300px; height:20px; vertical-align: middle;'></progress>\n",
       "      [250/250 35:48, Epoch 1/1]\n",
       "    </div>\n",
       "    <table border=\"1\" class=\"dataframe\">\n",
       "  <thead>\n",
       " <tr style=\"text-align: left;\">\n",
       "      <th>Step</th>\n",
       "      <th>Training Loss</th>\n",
       "    </tr>\n",
       "  </thead>\n",
       "  <tbody>\n",
       "    <tr>\n",
       "      <td>15</td>\n",
       "      <td>1.633100</td>\n",
       "    </tr>\n",
       "    <tr>\n",
       "      <td>30</td>\n",
       "      <td>1.361500</td>\n",
       "    </tr>\n",
       "    <tr>\n",
       "      <td>45</td>\n",
       "      <td>1.259000</td>\n",
       "    </tr>\n",
       "    <tr>\n",
       "      <td>60</td>\n",
       "      <td>1.179800</td>\n",
       "    </tr>\n",
       "    <tr>\n",
       "      <td>75</td>\n",
       "      <td>1.179500</td>\n",
       "    </tr>\n",
       "    <tr>\n",
       "      <td>90</td>\n",
       "      <td>1.119200</td>\n",
       "    </tr>\n",
       "    <tr>\n",
       "      <td>105</td>\n",
       "      <td>1.139000</td>\n",
       "    </tr>\n",
       "    <tr>\n",
       "      <td>120</td>\n",
       "      <td>1.115400</td>\n",
       "    </tr>\n",
       "    <tr>\n",
       "      <td>135</td>\n",
       "      <td>1.168300</td>\n",
       "    </tr>\n",
       "    <tr>\n",
       "      <td>150</td>\n",
       "      <td>1.191200</td>\n",
       "    </tr>\n",
       "    <tr>\n",
       "      <td>165</td>\n",
       "      <td>1.118800</td>\n",
       "    </tr>\n",
       "    <tr>\n",
       "      <td>180</td>\n",
       "      <td>1.097600</td>\n",
       "    </tr>\n",
       "    <tr>\n",
       "      <td>195</td>\n",
       "      <td>1.137000</td>\n",
       "    </tr>\n",
       "    <tr>\n",
       "      <td>210</td>\n",
       "      <td>1.112800</td>\n",
       "    </tr>\n",
       "    <tr>\n",
       "      <td>225</td>\n",
       "      <td>1.104100</td>\n",
       "    </tr>\n",
       "    <tr>\n",
       "      <td>240</td>\n",
       "      <td>1.090700</td>\n",
       "    </tr>\n",
       "  </tbody>\n",
       "</table><p>"
      ],
      "text/plain": [
       "<IPython.core.display.HTML object>"
      ]
     },
     "metadata": {},
     "output_type": "display_data"
    }
   ],
   "source": [
    "from trl import SFTTrainer\n",
    "# Set of supervisor parameter\n",
    "trainer = SFTTrainer(\n",
    "    model=model,\n",
    "    train_dataset=dataset,\n",
    "    eval_dataset=dataset,\n",
    "    peft_config=perf_config,\n",
    "    dataset_text_field=\"text\",\n",
    "    max_seq_length=512,\n",
    "    tokenizer=tokenizer,\n",
    "    args=training_arguments,\n",
    ")\n",
    "\n",
    "#Train model\n",
    "trainer.train()\n",
    "\n",
    "# #save model\n",
    "trainer.save_model(new_model)\n",
    "\n"
   ]
  },
  {
   "cell_type": "markdown",
   "metadata": {
    "id": "gjiPxuH9Z44i"
   },
   "source": []
  },
  {
   "cell_type": "code",
   "execution_count": 10,
   "metadata": {
    "id": "knon_rdhZ4PW"
   },
   "outputs": [
    {
     "data": {
      "application/vnd.jupyter.widget-view+json": {
       "model_id": "34ab785e6395411a878e0b732c094d15",
       "version_major": 2,
       "version_minor": 0
      },
      "text/plain": [
       "Loading checkpoint shards:   0%|          | 0/2 [00:00<?, ?it/s]"
      ]
     },
     "metadata": {},
     "output_type": "display_data"
    },
    {
     "name": "stdout",
     "output_type": "stream",
     "text": [
      "Model loaded successfully on GPU.\n"
     ]
    }
   ],
   "source": [
    "import torch\n",
    "from transformers import AutoModelForCausalLM, AutoTokenizer\n",
    "\n",
    "# Path to the saved model\n",
    "model_path = \"phi-22-bedoo96\"\n",
    "\n",
    "# Load the model on GPU with torch_dtype set to float16\n",
    "model = AutoModelForCausalLM.from_pretrained(\n",
    "    model_path,\n",
    "    torch_dtype=torch.float16,\n",
    "   \n",
    ")\n",
    "# Ensure the model is fully on GPU\n",
    "if torch.cuda.is_available():\n",
    "    model = model.to(\"cuda\")\n",
    "# Load the tokenizer\n",
    "tokenizer = AutoTokenizer.from_pretrained(model_path)\n",
    "\n",
    "print(\"Model loaded successfully on GPU.\")\n",
    "\n"
   ]
  },
  {
   "cell_type": "code",
   "execution_count": 7,
   "metadata": {},
   "outputs": [],
   "source": [
    "tokenizer = AutoTokenizer.from_pretrained(\"phi-22-bedoo96\")"
   ]
  },
  {
   "cell_type": "code",
   "execution_count": 13,
   "metadata": {},
   "outputs": [
    {
     "name": "stderr",
     "output_type": "stream",
     "text": [
      "Setting `pad_token_id` to `eos_token_id`:None for open-end generation.\n"
     ]
    },
    {
     "name": "stdout",
     "output_type": "stream",
     "text": [
      "Model:  What are the treatments for Primary CNS Lymphoma?\n",
      "                - What are the treatments for Secondary CNS Lymphoma?\n",
      "                - What are the treatments for CNS Lymphoma in Children?\n",
      "                - What are the treatments for CNS Lymphoma in Adults?\n",
      "                - What are the treatments for CNS Lymphoma in Older Adults?\n",
      "                - What are the treatments for CNS Lymphoma in People with HIV/AIDS?\n",
      "                - What are the treatments for CNS L\n"
     ]
    }
   ],
   "source": [
    "\n",
    "user_input = input(\" What are the treatments for Primary CNS Lymphoma \")    \n",
    "# Tokenize the input and move it to the same device as the model\n",
    "inputs = tokenizer(user_input, return_tensors=\"pt\", truncation=True, padding=True, max_length=512)\n",
    "inputs = {key: value.to(\"cuda\") for key, value in inputs.items()}  # Move tensors to GPU    \n",
    "# Generate a response\n",
    "output = model.generate(**inputs, max_length=100, num_return_sequences=1)    \n",
    "# Decode the output\n",
    "response = tokenizer.decode(output[0], skip_special_tokens=True)\n",
    "print(\"Model: \" + response)\n"
   ]
  }
 ],
 "metadata": {
  "accelerator": "GPU",
  "colab": {
   "gpuType": "T4",
   "provenance": []
  },
  "kernelspec": {
   "display_name": "NLP",
   "language": "python",
   "name": "python3"
  },
  "language_info": {
   "codemirror_mode": {
    "name": "ipython",
    "version": 3
   },
   "file_extension": ".py",
   "mimetype": "text/x-python",
   "name": "python",
   "nbconvert_exporter": "python",
   "pygments_lexer": "ipython3",
   "version": "3.10.12"
  },
  "widgets": {
   "application/vnd.jupyter.widget-state+json": {
    "0b60e1e9513a429c9e5d0231c628ab14": {
     "model_module": "@jupyter-widgets/base",
     "model_module_version": "1.2.0",
     "model_name": "LayoutModel",
     "state": {
      "_model_module": "@jupyter-widgets/base",
      "_model_module_version": "1.2.0",
      "_model_name": "LayoutModel",
      "_view_count": null,
      "_view_module": "@jupyter-widgets/base",
      "_view_module_version": "1.2.0",
      "_view_name": "LayoutView",
      "align_content": null,
      "align_items": null,
      "align_self": null,
      "border": null,
      "bottom": null,
      "display": null,
      "flex": null,
      "flex_flow": null,
      "grid_area": null,
      "grid_auto_columns": null,
      "grid_auto_flow": null,
      "grid_auto_rows": null,
      "grid_column": null,
      "grid_gap": null,
      "grid_row": null,
      "grid_template_areas": null,
      "grid_template_columns": null,
      "grid_template_rows": null,
      "height": null,
      "justify_content": null,
      "justify_items": null,
      "left": null,
      "margin": null,
      "max_height": null,
      "max_width": null,
      "min_height": null,
      "min_width": null,
      "object_fit": null,
      "object_position": null,
      "order": null,
      "overflow": null,
      "overflow_x": null,
      "overflow_y": null,
      "padding": null,
      "right": null,
      "top": null,
      "visibility": null,
      "width": null
     }
    },
    "13d65255e226476abc13c5be96fa4615": {
     "model_module": "@jupyter-widgets/controls",
     "model_module_version": "1.5.0",
     "model_name": "HTMLModel",
     "state": {
      "_dom_classes": [],
      "_model_module": "@jupyter-widgets/controls",
      "_model_module_version": "1.5.0",
      "_model_name": "HTMLModel",
      "_view_count": null,
      "_view_module": "@jupyter-widgets/controls",
      "_view_module_version": "1.5.0",
      "_view_name": "HTMLView",
      "description": "",
      "description_tooltip": null,
      "layout": "IPY_MODEL_8828168902db46239b0834ca947d8aee",
      "placeholder": "​",
      "style": "IPY_MODEL_20adadbf5a1e46a58096799ff6ba649a",
      "value": "Map: 100%"
     }
    },
    "15852c018f5048bd8cf154535790ddea": {
     "model_module": "@jupyter-widgets/controls",
     "model_module_version": "1.5.0",
     "model_name": "HBoxModel",
     "state": {
      "_dom_classes": [],
      "_model_module": "@jupyter-widgets/controls",
      "_model_module_version": "1.5.0",
      "_model_name": "HBoxModel",
      "_view_count": null,
      "_view_module": "@jupyter-widgets/controls",
      "_view_module_version": "1.5.0",
      "_view_name": "HBoxView",
      "box_style": "",
      "children": [
       "IPY_MODEL_61511f1af6ce4283a03210c75af57018",
       "IPY_MODEL_36bcc0d7f3c2408ebc8a4ebd33079b36",
       "IPY_MODEL_3ff3c33b7ff846dcafd59daa9666f0cf"
      ],
      "layout": "IPY_MODEL_3d7f43b227c24ac595cdb47514bb732f"
     }
    },
    "16659ab3b5cc40638312cda2c2e08b01": {
     "model_module": "@jupyter-widgets/controls",
     "model_module_version": "1.5.0",
     "model_name": "DescriptionStyleModel",
     "state": {
      "_model_module": "@jupyter-widgets/controls",
      "_model_module_version": "1.5.0",
      "_model_name": "DescriptionStyleModel",
      "_view_count": null,
      "_view_module": "@jupyter-widgets/base",
      "_view_module_version": "1.2.0",
      "_view_name": "StyleView",
      "description_width": ""
     }
    },
    "20adadbf5a1e46a58096799ff6ba649a": {
     "model_module": "@jupyter-widgets/controls",
     "model_module_version": "1.5.0",
     "model_name": "DescriptionStyleModel",
     "state": {
      "_model_module": "@jupyter-widgets/controls",
      "_model_module_version": "1.5.0",
      "_model_name": "DescriptionStyleModel",
      "_view_count": null,
      "_view_module": "@jupyter-widgets/base",
      "_view_module_version": "1.2.0",
      "_view_name": "StyleView",
      "description_width": ""
     }
    },
    "216535b673434ecd8e3acdfee7125a9f": {
     "model_module": "@jupyter-widgets/base",
     "model_module_version": "1.2.0",
     "model_name": "LayoutModel",
     "state": {
      "_model_module": "@jupyter-widgets/base",
      "_model_module_version": "1.2.0",
      "_model_name": "LayoutModel",
      "_view_count": null,
      "_view_module": "@jupyter-widgets/base",
      "_view_module_version": "1.2.0",
      "_view_name": "LayoutView",
      "align_content": null,
      "align_items": null,
      "align_self": null,
      "border": null,
      "bottom": null,
      "display": null,
      "flex": null,
      "flex_flow": null,
      "grid_area": null,
      "grid_auto_columns": null,
      "grid_auto_flow": null,
      "grid_auto_rows": null,
      "grid_column": null,
      "grid_gap": null,
      "grid_row": null,
      "grid_template_areas": null,
      "grid_template_columns": null,
      "grid_template_rows": null,
      "height": null,
      "justify_content": null,
      "justify_items": null,
      "left": null,
      "margin": null,
      "max_height": null,
      "max_width": null,
      "min_height": null,
      "min_width": null,
      "object_fit": null,
      "object_position": null,
      "order": null,
      "overflow": null,
      "overflow_x": null,
      "overflow_y": null,
      "padding": null,
      "right": null,
      "top": null,
      "visibility": null,
      "width": null
     }
    },
    "2311db3e808b453c94754486f81a492f": {
     "model_module": "@jupyter-widgets/controls",
     "model_module_version": "1.5.0",
     "model_name": "HBoxModel",
     "state": {
      "_dom_classes": [],
      "_model_module": "@jupyter-widgets/controls",
      "_model_module_version": "1.5.0",
      "_model_name": "HBoxModel",
      "_view_count": null,
      "_view_module": "@jupyter-widgets/controls",
      "_view_module_version": "1.5.0",
      "_view_name": "HBoxView",
      "box_style": "",
      "children": [
       "IPY_MODEL_13d65255e226476abc13c5be96fa4615",
       "IPY_MODEL_5a51d574d4df4ba38c0bd7f473db1150",
       "IPY_MODEL_3b1f00b32f11454fb6b1f81705697dca"
      ],
      "layout": "IPY_MODEL_f3673eff9982438f8bcb8ef24525b741"
     }
    },
    "30a39869e1ef4ed79e4f04ad4cec7677": {
     "model_module": "@jupyter-widgets/base",
     "model_module_version": "1.2.0",
     "model_name": "LayoutModel",
     "state": {
      "_model_module": "@jupyter-widgets/base",
      "_model_module_version": "1.2.0",
      "_model_name": "LayoutModel",
      "_view_count": null,
      "_view_module": "@jupyter-widgets/base",
      "_view_module_version": "1.2.0",
      "_view_name": "LayoutView",
      "align_content": null,
      "align_items": null,
      "align_self": null,
      "border": null,
      "bottom": null,
      "display": null,
      "flex": null,
      "flex_flow": null,
      "grid_area": null,
      "grid_auto_columns": null,
      "grid_auto_flow": null,
      "grid_auto_rows": null,
      "grid_column": null,
      "grid_gap": null,
      "grid_row": null,
      "grid_template_areas": null,
      "grid_template_columns": null,
      "grid_template_rows": null,
      "height": null,
      "justify_content": null,
      "justify_items": null,
      "left": null,
      "margin": null,
      "max_height": null,
      "max_width": null,
      "min_height": null,
      "min_width": null,
      "object_fit": null,
      "object_position": null,
      "order": null,
      "overflow": null,
      "overflow_x": null,
      "overflow_y": null,
      "padding": null,
      "right": null,
      "top": null,
      "visibility": null,
      "width": null
     }
    },
    "313f3f9124a7438db7f84997d9b7d546": {
     "model_module": "@jupyter-widgets/controls",
     "model_module_version": "1.5.0",
     "model_name": "ProgressStyleModel",
     "state": {
      "_model_module": "@jupyter-widgets/controls",
      "_model_module_version": "1.5.0",
      "_model_name": "ProgressStyleModel",
      "_view_count": null,
      "_view_module": "@jupyter-widgets/base",
      "_view_module_version": "1.2.0",
      "_view_name": "StyleView",
      "bar_color": null,
      "description_width": ""
     }
    },
    "35bb7642d087432998497ed193983de7": {
     "model_module": "@jupyter-widgets/base",
     "model_module_version": "1.2.0",
     "model_name": "LayoutModel",
     "state": {
      "_model_module": "@jupyter-widgets/base",
      "_model_module_version": "1.2.0",
      "_model_name": "LayoutModel",
      "_view_count": null,
      "_view_module": "@jupyter-widgets/base",
      "_view_module_version": "1.2.0",
      "_view_name": "LayoutView",
      "align_content": null,
      "align_items": null,
      "align_self": null,
      "border": null,
      "bottom": null,
      "display": null,
      "flex": null,
      "flex_flow": null,
      "grid_area": null,
      "grid_auto_columns": null,
      "grid_auto_flow": null,
      "grid_auto_rows": null,
      "grid_column": null,
      "grid_gap": null,
      "grid_row": null,
      "grid_template_areas": null,
      "grid_template_columns": null,
      "grid_template_rows": null,
      "height": null,
      "justify_content": null,
      "justify_items": null,
      "left": null,
      "margin": null,
      "max_height": null,
      "max_width": null,
      "min_height": null,
      "min_width": null,
      "object_fit": null,
      "object_position": null,
      "order": null,
      "overflow": null,
      "overflow_x": null,
      "overflow_y": null,
      "padding": null,
      "right": null,
      "top": null,
      "visibility": null,
      "width": null
     }
    },
    "36bcc0d7f3c2408ebc8a4ebd33079b36": {
     "model_module": "@jupyter-widgets/controls",
     "model_module_version": "1.5.0",
     "model_name": "FloatProgressModel",
     "state": {
      "_dom_classes": [],
      "_model_module": "@jupyter-widgets/controls",
      "_model_module_version": "1.5.0",
      "_model_name": "FloatProgressModel",
      "_view_count": null,
      "_view_module": "@jupyter-widgets/controls",
      "_view_module_version": "1.5.0",
      "_view_name": "ProgressView",
      "bar_style": "success",
      "description": "",
      "description_tooltip": null,
      "layout": "IPY_MODEL_cf027c2a0cd544ee8b91cf3a83e9fc48",
      "max": 2,
      "min": 0,
      "orientation": "horizontal",
      "style": "IPY_MODEL_6e351814c5864d4896a060d08c180e2d",
      "value": 2
     }
    },
    "37abb10dd1f645009c8faddcfcce2c57": {
     "model_module": "@jupyter-widgets/controls",
     "model_module_version": "1.5.0",
     "model_name": "HTMLModel",
     "state": {
      "_dom_classes": [],
      "_model_module": "@jupyter-widgets/controls",
      "_model_module_version": "1.5.0",
      "_model_name": "HTMLModel",
      "_view_count": null,
      "_view_module": "@jupyter-widgets/controls",
      "_view_module_version": "1.5.0",
      "_view_name": "HTMLView",
      "description": "",
      "description_tooltip": null,
      "layout": "IPY_MODEL_35bb7642d087432998497ed193983de7",
      "placeholder": "​",
      "style": "IPY_MODEL_383e2a0b856c4b048594e2e9e8bbe5ad",
      "value": " 11.6k/11.6k [00:00&lt;00:00, 689kB/s]"
     }
    },
    "383e2a0b856c4b048594e2e9e8bbe5ad": {
     "model_module": "@jupyter-widgets/controls",
     "model_module_version": "1.5.0",
     "model_name": "DescriptionStyleModel",
     "state": {
      "_model_module": "@jupyter-widgets/controls",
      "_model_module_version": "1.5.0",
      "_model_name": "DescriptionStyleModel",
      "_view_count": null,
      "_view_module": "@jupyter-widgets/base",
      "_view_module_version": "1.2.0",
      "_view_name": "StyleView",
      "description_width": ""
     }
    },
    "3b1f00b32f11454fb6b1f81705697dca": {
     "model_module": "@jupyter-widgets/controls",
     "model_module_version": "1.5.0",
     "model_name": "HTMLModel",
     "state": {
      "_dom_classes": [],
      "_model_module": "@jupyter-widgets/controls",
      "_model_module_version": "1.5.0",
      "_model_name": "HTMLModel",
      "_view_count": null,
      "_view_module": "@jupyter-widgets/controls",
      "_view_module_version": "1.5.0",
      "_view_name": "HTMLView",
      "description": "",
      "description_tooltip": null,
      "layout": "IPY_MODEL_eb0fb19f0f35416fabea97bf7d412de8",
      "placeholder": "​",
      "style": "IPY_MODEL_ce538f083f9e4b929738abfe63e40608",
      "value": " 1000/1000 [00:03&lt;00:00, 326.15 examples/s]"
     }
    },
    "3d7f43b227c24ac595cdb47514bb732f": {
     "model_module": "@jupyter-widgets/base",
     "model_module_version": "1.2.0",
     "model_name": "LayoutModel",
     "state": {
      "_model_module": "@jupyter-widgets/base",
      "_model_module_version": "1.2.0",
      "_model_name": "LayoutModel",
      "_view_count": null,
      "_view_module": "@jupyter-widgets/base",
      "_view_module_version": "1.2.0",
      "_view_name": "LayoutView",
      "align_content": null,
      "align_items": null,
      "align_self": null,
      "border": null,
      "bottom": null,
      "display": null,
      "flex": null,
      "flex_flow": null,
      "grid_area": null,
      "grid_auto_columns": null,
      "grid_auto_flow": null,
      "grid_auto_rows": null,
      "grid_column": null,
      "grid_gap": null,
      "grid_row": null,
      "grid_template_areas": null,
      "grid_template_columns": null,
      "grid_template_rows": null,
      "height": null,
      "justify_content": null,
      "justify_items": null,
      "left": null,
      "margin": null,
      "max_height": null,
      "max_width": null,
      "min_height": null,
      "min_width": null,
      "object_fit": null,
      "object_position": null,
      "order": null,
      "overflow": null,
      "overflow_x": null,
      "overflow_y": null,
      "padding": null,
      "right": null,
      "top": null,
      "visibility": null,
      "width": null
     }
    },
    "3ff3c33b7ff846dcafd59daa9666f0cf": {
     "model_module": "@jupyter-widgets/controls",
     "model_module_version": "1.5.0",
     "model_name": "HTMLModel",
     "state": {
      "_dom_classes": [],
      "_model_module": "@jupyter-widgets/controls",
      "_model_module_version": "1.5.0",
      "_model_name": "HTMLModel",
      "_view_count": null,
      "_view_module": "@jupyter-widgets/controls",
      "_view_module_version": "1.5.0",
      "_view_name": "HTMLView",
      "description": "",
      "description_tooltip": null,
      "layout": "IPY_MODEL_e32ef4de9f914444bd319e5b8cdd669d",
      "placeholder": "​",
      "style": "IPY_MODEL_e1b75e902e134f8dba2e741ae5bbfc45",
      "value": " 2/2 [00:08&lt;00:00,  3.75s/it]"
     }
    },
    "502677da38664bfeb63c686f25d1e101": {
     "model_module": "@jupyter-widgets/controls",
     "model_module_version": "1.5.0",
     "model_name": "FloatProgressModel",
     "state": {
      "_dom_classes": [],
      "_model_module": "@jupyter-widgets/controls",
      "_model_module_version": "1.5.0",
      "_model_name": "FloatProgressModel",
      "_view_count": null,
      "_view_module": "@jupyter-widgets/controls",
      "_view_module_version": "1.5.0",
      "_view_name": "ProgressView",
      "bar_style": "success",
      "description": "",
      "description_tooltip": null,
      "layout": "IPY_MODEL_216535b673434ecd8e3acdfee7125a9f",
      "max": 11610,
      "min": 0,
      "orientation": "horizontal",
      "style": "IPY_MODEL_ed8513ab10d342daab71697bb8b580f3",
      "value": 11610
     }
    },
    "59e99d638d494076900a59dd8a69df9f": {
     "model_module": "@jupyter-widgets/controls",
     "model_module_version": "1.5.0",
     "model_name": "ProgressStyleModel",
     "state": {
      "_model_module": "@jupyter-widgets/controls",
      "_model_module_version": "1.5.0",
      "_model_name": "ProgressStyleModel",
      "_view_count": null,
      "_view_module": "@jupyter-widgets/base",
      "_view_module_version": "1.2.0",
      "_view_name": "StyleView",
      "bar_color": null,
      "description_width": ""
     }
    },
    "5a51d574d4df4ba38c0bd7f473db1150": {
     "model_module": "@jupyter-widgets/controls",
     "model_module_version": "1.5.0",
     "model_name": "FloatProgressModel",
     "state": {
      "_dom_classes": [],
      "_model_module": "@jupyter-widgets/controls",
      "_model_module_version": "1.5.0",
      "_model_name": "FloatProgressModel",
      "_view_count": null,
      "_view_module": "@jupyter-widgets/controls",
      "_view_module_version": "1.5.0",
      "_view_name": "ProgressView",
      "bar_style": "success",
      "description": "",
      "description_tooltip": null,
      "layout": "IPY_MODEL_0b60e1e9513a429c9e5d0231c628ab14",
      "max": 1000,
      "min": 0,
      "orientation": "horizontal",
      "style": "IPY_MODEL_59e99d638d494076900a59dd8a69df9f",
      "value": 1000
     }
    },
    "5cd9f85d7c374ce1b883c39be197bfac": {
     "model_module": "@jupyter-widgets/controls",
     "model_module_version": "1.5.0",
     "model_name": "HBoxModel",
     "state": {
      "_dom_classes": [],
      "_model_module": "@jupyter-widgets/controls",
      "_model_module_version": "1.5.0",
      "_model_name": "HBoxModel",
      "_view_count": null,
      "_view_module": "@jupyter-widgets/controls",
      "_view_module_version": "1.5.0",
      "_view_name": "HBoxView",
      "box_style": "",
      "children": [
       "IPY_MODEL_8220e4db83864597927d6fe26c12d2a0",
       "IPY_MODEL_502677da38664bfeb63c686f25d1e101",
       "IPY_MODEL_37abb10dd1f645009c8faddcfcce2c57"
      ],
      "layout": "IPY_MODEL_c2a3de41197c41dcbdb770d447347f37"
     }
    },
    "61511f1af6ce4283a03210c75af57018": {
     "model_module": "@jupyter-widgets/controls",
     "model_module_version": "1.5.0",
     "model_name": "HTMLModel",
     "state": {
      "_dom_classes": [],
      "_model_module": "@jupyter-widgets/controls",
      "_model_module_version": "1.5.0",
      "_model_name": "HTMLModel",
      "_view_count": null,
      "_view_module": "@jupyter-widgets/controls",
      "_view_module_version": "1.5.0",
      "_view_name": "HTMLView",
      "description": "",
      "description_tooltip": null,
      "layout": "IPY_MODEL_f399d7adaec240fb9a5acbf5576dad92",
      "placeholder": "​",
      "style": "IPY_MODEL_e3416a3321c64bf2b8bc68ce320eebd9",
      "value": "Loading checkpoint shards: 100%"
     }
    },
    "6e351814c5864d4896a060d08c180e2d": {
     "model_module": "@jupyter-widgets/controls",
     "model_module_version": "1.5.0",
     "model_name": "ProgressStyleModel",
     "state": {
      "_model_module": "@jupyter-widgets/controls",
      "_model_module_version": "1.5.0",
      "_model_name": "ProgressStyleModel",
      "_view_count": null,
      "_view_module": "@jupyter-widgets/base",
      "_view_module_version": "1.2.0",
      "_view_name": "StyleView",
      "bar_color": null,
      "description_width": ""
     }
    },
    "7346a47a570447f1b9239e62e2c854fe": {
     "model_module": "@jupyter-widgets/controls",
     "model_module_version": "1.5.0",
     "model_name": "FloatProgressModel",
     "state": {
      "_dom_classes": [],
      "_model_module": "@jupyter-widgets/controls",
      "_model_module_version": "1.5.0",
      "_model_name": "FloatProgressModel",
      "_view_count": null,
      "_view_module": "@jupyter-widgets/controls",
      "_view_module_version": "1.5.0",
      "_view_name": "ProgressView",
      "bar_style": "success",
      "description": "",
      "description_tooltip": null,
      "layout": "IPY_MODEL_8072258470af49e799d7849d44c1daff",
      "max": 1000,
      "min": 0,
      "orientation": "horizontal",
      "style": "IPY_MODEL_313f3f9124a7438db7f84997d9b7d546",
      "value": 1000
     }
    },
    "8072258470af49e799d7849d44c1daff": {
     "model_module": "@jupyter-widgets/base",
     "model_module_version": "1.2.0",
     "model_name": "LayoutModel",
     "state": {
      "_model_module": "@jupyter-widgets/base",
      "_model_module_version": "1.2.0",
      "_model_name": "LayoutModel",
      "_view_count": null,
      "_view_module": "@jupyter-widgets/base",
      "_view_module_version": "1.2.0",
      "_view_name": "LayoutView",
      "align_content": null,
      "align_items": null,
      "align_self": null,
      "border": null,
      "bottom": null,
      "display": null,
      "flex": null,
      "flex_flow": null,
      "grid_area": null,
      "grid_auto_columns": null,
      "grid_auto_flow": null,
      "grid_auto_rows": null,
      "grid_column": null,
      "grid_gap": null,
      "grid_row": null,
      "grid_template_areas": null,
      "grid_template_columns": null,
      "grid_template_rows": null,
      "height": null,
      "justify_content": null,
      "justify_items": null,
      "left": null,
      "margin": null,
      "max_height": null,
      "max_width": null,
      "min_height": null,
      "min_width": null,
      "object_fit": null,
      "object_position": null,
      "order": null,
      "overflow": null,
      "overflow_x": null,
      "overflow_y": null,
      "padding": null,
      "right": null,
      "top": null,
      "visibility": null,
      "width": null
     }
    },
    "8220e4db83864597927d6fe26c12d2a0": {
     "model_module": "@jupyter-widgets/controls",
     "model_module_version": "1.5.0",
     "model_name": "HTMLModel",
     "state": {
      "_dom_classes": [],
      "_model_module": "@jupyter-widgets/controls",
      "_model_module_version": "1.5.0",
      "_model_name": "HTMLModel",
      "_view_count": null,
      "_view_module": "@jupyter-widgets/controls",
      "_view_module_version": "1.5.0",
      "_view_name": "HTMLView",
      "description": "",
      "description_tooltip": null,
      "layout": "IPY_MODEL_d2fe998174be4c73831f26a1d77a3132",
      "placeholder": "​",
      "style": "IPY_MODEL_96bf9493d3da4514b912f6b73c903dd5",
      "value": "README.md: 100%"
     }
    },
    "836482c330db4a88acee7c8e94eb6100": {
     "model_module": "@jupyter-widgets/base",
     "model_module_version": "1.2.0",
     "model_name": "LayoutModel",
     "state": {
      "_model_module": "@jupyter-widgets/base",
      "_model_module_version": "1.2.0",
      "_model_name": "LayoutModel",
      "_view_count": null,
      "_view_module": "@jupyter-widgets/base",
      "_view_module_version": "1.2.0",
      "_view_name": "LayoutView",
      "align_content": null,
      "align_items": null,
      "align_self": null,
      "border": null,
      "bottom": null,
      "display": null,
      "flex": null,
      "flex_flow": null,
      "grid_area": null,
      "grid_auto_columns": null,
      "grid_auto_flow": null,
      "grid_auto_rows": null,
      "grid_column": null,
      "grid_gap": null,
      "grid_row": null,
      "grid_template_areas": null,
      "grid_template_columns": null,
      "grid_template_rows": null,
      "height": null,
      "justify_content": null,
      "justify_items": null,
      "left": null,
      "margin": null,
      "max_height": null,
      "max_width": null,
      "min_height": null,
      "min_width": null,
      "object_fit": null,
      "object_position": null,
      "order": null,
      "overflow": null,
      "overflow_x": null,
      "overflow_y": null,
      "padding": null,
      "right": null,
      "top": null,
      "visibility": null,
      "width": null
     }
    },
    "8828168902db46239b0834ca947d8aee": {
     "model_module": "@jupyter-widgets/base",
     "model_module_version": "1.2.0",
     "model_name": "LayoutModel",
     "state": {
      "_model_module": "@jupyter-widgets/base",
      "_model_module_version": "1.2.0",
      "_model_name": "LayoutModel",
      "_view_count": null,
      "_view_module": "@jupyter-widgets/base",
      "_view_module_version": "1.2.0",
      "_view_name": "LayoutView",
      "align_content": null,
      "align_items": null,
      "align_self": null,
      "border": null,
      "bottom": null,
      "display": null,
      "flex": null,
      "flex_flow": null,
      "grid_area": null,
      "grid_auto_columns": null,
      "grid_auto_flow": null,
      "grid_auto_rows": null,
      "grid_column": null,
      "grid_gap": null,
      "grid_row": null,
      "grid_template_areas": null,
      "grid_template_columns": null,
      "grid_template_rows": null,
      "height": null,
      "justify_content": null,
      "justify_items": null,
      "left": null,
      "margin": null,
      "max_height": null,
      "max_width": null,
      "min_height": null,
      "min_width": null,
      "object_fit": null,
      "object_position": null,
      "order": null,
      "overflow": null,
      "overflow_x": null,
      "overflow_y": null,
      "padding": null,
      "right": null,
      "top": null,
      "visibility": null,
      "width": null
     }
    },
    "96bf9493d3da4514b912f6b73c903dd5": {
     "model_module": "@jupyter-widgets/controls",
     "model_module_version": "1.5.0",
     "model_name": "DescriptionStyleModel",
     "state": {
      "_model_module": "@jupyter-widgets/controls",
      "_model_module_version": "1.5.0",
      "_model_name": "DescriptionStyleModel",
      "_view_count": null,
      "_view_module": "@jupyter-widgets/base",
      "_view_module_version": "1.2.0",
      "_view_name": "StyleView",
      "description_width": ""
     }
    },
    "c2a3de41197c41dcbdb770d447347f37": {
     "model_module": "@jupyter-widgets/base",
     "model_module_version": "1.2.0",
     "model_name": "LayoutModel",
     "state": {
      "_model_module": "@jupyter-widgets/base",
      "_model_module_version": "1.2.0",
      "_model_name": "LayoutModel",
      "_view_count": null,
      "_view_module": "@jupyter-widgets/base",
      "_view_module_version": "1.2.0",
      "_view_name": "LayoutView",
      "align_content": null,
      "align_items": null,
      "align_self": null,
      "border": null,
      "bottom": null,
      "display": null,
      "flex": null,
      "flex_flow": null,
      "grid_area": null,
      "grid_auto_columns": null,
      "grid_auto_flow": null,
      "grid_auto_rows": null,
      "grid_column": null,
      "grid_gap": null,
      "grid_row": null,
      "grid_template_areas": null,
      "grid_template_columns": null,
      "grid_template_rows": null,
      "height": null,
      "justify_content": null,
      "justify_items": null,
      "left": null,
      "margin": null,
      "max_height": null,
      "max_width": null,
      "min_height": null,
      "min_width": null,
      "object_fit": null,
      "object_position": null,
      "order": null,
      "overflow": null,
      "overflow_x": null,
      "overflow_y": null,
      "padding": null,
      "right": null,
      "top": null,
      "visibility": null,
      "width": null
     }
    },
    "ce538f083f9e4b929738abfe63e40608": {
     "model_module": "@jupyter-widgets/controls",
     "model_module_version": "1.5.0",
     "model_name": "DescriptionStyleModel",
     "state": {
      "_model_module": "@jupyter-widgets/controls",
      "_model_module_version": "1.5.0",
      "_model_name": "DescriptionStyleModel",
      "_view_count": null,
      "_view_module": "@jupyter-widgets/base",
      "_view_module_version": "1.2.0",
      "_view_name": "StyleView",
      "description_width": ""
     }
    },
    "cf027c2a0cd544ee8b91cf3a83e9fc48": {
     "model_module": "@jupyter-widgets/base",
     "model_module_version": "1.2.0",
     "model_name": "LayoutModel",
     "state": {
      "_model_module": "@jupyter-widgets/base",
      "_model_module_version": "1.2.0",
      "_model_name": "LayoutModel",
      "_view_count": null,
      "_view_module": "@jupyter-widgets/base",
      "_view_module_version": "1.2.0",
      "_view_name": "LayoutView",
      "align_content": null,
      "align_items": null,
      "align_self": null,
      "border": null,
      "bottom": null,
      "display": null,
      "flex": null,
      "flex_flow": null,
      "grid_area": null,
      "grid_auto_columns": null,
      "grid_auto_flow": null,
      "grid_auto_rows": null,
      "grid_column": null,
      "grid_gap": null,
      "grid_row": null,
      "grid_template_areas": null,
      "grid_template_columns": null,
      "grid_template_rows": null,
      "height": null,
      "justify_content": null,
      "justify_items": null,
      "left": null,
      "margin": null,
      "max_height": null,
      "max_width": null,
      "min_height": null,
      "min_width": null,
      "object_fit": null,
      "object_position": null,
      "order": null,
      "overflow": null,
      "overflow_x": null,
      "overflow_y": null,
      "padding": null,
      "right": null,
      "top": null,
      "visibility": null,
      "width": null
     }
    },
    "d0b64c35e5a947adb0ed3071ecedbc6c": {
     "model_module": "@jupyter-widgets/controls",
     "model_module_version": "1.5.0",
     "model_name": "HBoxModel",
     "state": {
      "_dom_classes": [],
      "_model_module": "@jupyter-widgets/controls",
      "_model_module_version": "1.5.0",
      "_model_name": "HBoxModel",
      "_view_count": null,
      "_view_module": "@jupyter-widgets/controls",
      "_view_module_version": "1.5.0",
      "_view_name": "HBoxView",
      "box_style": "",
      "children": [
       "IPY_MODEL_f745cb78404a46129d60dceeb216cf3a",
       "IPY_MODEL_7346a47a570447f1b9239e62e2c854fe",
       "IPY_MODEL_f8eed16798dd4b1683b9fef380810337"
      ],
      "layout": "IPY_MODEL_30a39869e1ef4ed79e4f04ad4cec7677"
     }
    },
    "d2fe998174be4c73831f26a1d77a3132": {
     "model_module": "@jupyter-widgets/base",
     "model_module_version": "1.2.0",
     "model_name": "LayoutModel",
     "state": {
      "_model_module": "@jupyter-widgets/base",
      "_model_module_version": "1.2.0",
      "_model_name": "LayoutModel",
      "_view_count": null,
      "_view_module": "@jupyter-widgets/base",
      "_view_module_version": "1.2.0",
      "_view_name": "LayoutView",
      "align_content": null,
      "align_items": null,
      "align_self": null,
      "border": null,
      "bottom": null,
      "display": null,
      "flex": null,
      "flex_flow": null,
      "grid_area": null,
      "grid_auto_columns": null,
      "grid_auto_flow": null,
      "grid_auto_rows": null,
      "grid_column": null,
      "grid_gap": null,
      "grid_row": null,
      "grid_template_areas": null,
      "grid_template_columns": null,
      "grid_template_rows": null,
      "height": null,
      "justify_content": null,
      "justify_items": null,
      "left": null,
      "margin": null,
      "max_height": null,
      "max_width": null,
      "min_height": null,
      "min_width": null,
      "object_fit": null,
      "object_position": null,
      "order": null,
      "overflow": null,
      "overflow_x": null,
      "overflow_y": null,
      "padding": null,
      "right": null,
      "top": null,
      "visibility": null,
      "width": null
     }
    },
    "de0f1e72b086456fa7b574c618be3de1": {
     "model_module": "@jupyter-widgets/controls",
     "model_module_version": "1.5.0",
     "model_name": "DescriptionStyleModel",
     "state": {
      "_model_module": "@jupyter-widgets/controls",
      "_model_module_version": "1.5.0",
      "_model_name": "DescriptionStyleModel",
      "_view_count": null,
      "_view_module": "@jupyter-widgets/base",
      "_view_module_version": "1.2.0",
      "_view_name": "StyleView",
      "description_width": ""
     }
    },
    "e1b75e902e134f8dba2e741ae5bbfc45": {
     "model_module": "@jupyter-widgets/controls",
     "model_module_version": "1.5.0",
     "model_name": "DescriptionStyleModel",
     "state": {
      "_model_module": "@jupyter-widgets/controls",
      "_model_module_version": "1.5.0",
      "_model_name": "DescriptionStyleModel",
      "_view_count": null,
      "_view_module": "@jupyter-widgets/base",
      "_view_module_version": "1.2.0",
      "_view_name": "StyleView",
      "description_width": ""
     }
    },
    "e32ef4de9f914444bd319e5b8cdd669d": {
     "model_module": "@jupyter-widgets/base",
     "model_module_version": "1.2.0",
     "model_name": "LayoutModel",
     "state": {
      "_model_module": "@jupyter-widgets/base",
      "_model_module_version": "1.2.0",
      "_model_name": "LayoutModel",
      "_view_count": null,
      "_view_module": "@jupyter-widgets/base",
      "_view_module_version": "1.2.0",
      "_view_name": "LayoutView",
      "align_content": null,
      "align_items": null,
      "align_self": null,
      "border": null,
      "bottom": null,
      "display": null,
      "flex": null,
      "flex_flow": null,
      "grid_area": null,
      "grid_auto_columns": null,
      "grid_auto_flow": null,
      "grid_auto_rows": null,
      "grid_column": null,
      "grid_gap": null,
      "grid_row": null,
      "grid_template_areas": null,
      "grid_template_columns": null,
      "grid_template_rows": null,
      "height": null,
      "justify_content": null,
      "justify_items": null,
      "left": null,
      "margin": null,
      "max_height": null,
      "max_width": null,
      "min_height": null,
      "min_width": null,
      "object_fit": null,
      "object_position": null,
      "order": null,
      "overflow": null,
      "overflow_x": null,
      "overflow_y": null,
      "padding": null,
      "right": null,
      "top": null,
      "visibility": null,
      "width": null
     }
    },
    "e3416a3321c64bf2b8bc68ce320eebd9": {
     "model_module": "@jupyter-widgets/controls",
     "model_module_version": "1.5.0",
     "model_name": "DescriptionStyleModel",
     "state": {
      "_model_module": "@jupyter-widgets/controls",
      "_model_module_version": "1.5.0",
      "_model_name": "DescriptionStyleModel",
      "_view_count": null,
      "_view_module": "@jupyter-widgets/base",
      "_view_module_version": "1.2.0",
      "_view_name": "StyleView",
      "description_width": ""
     }
    },
    "eb0fb19f0f35416fabea97bf7d412de8": {
     "model_module": "@jupyter-widgets/base",
     "model_module_version": "1.2.0",
     "model_name": "LayoutModel",
     "state": {
      "_model_module": "@jupyter-widgets/base",
      "_model_module_version": "1.2.0",
      "_model_name": "LayoutModel",
      "_view_count": null,
      "_view_module": "@jupyter-widgets/base",
      "_view_module_version": "1.2.0",
      "_view_name": "LayoutView",
      "align_content": null,
      "align_items": null,
      "align_self": null,
      "border": null,
      "bottom": null,
      "display": null,
      "flex": null,
      "flex_flow": null,
      "grid_area": null,
      "grid_auto_columns": null,
      "grid_auto_flow": null,
      "grid_auto_rows": null,
      "grid_column": null,
      "grid_gap": null,
      "grid_row": null,
      "grid_template_areas": null,
      "grid_template_columns": null,
      "grid_template_rows": null,
      "height": null,
      "justify_content": null,
      "justify_items": null,
      "left": null,
      "margin": null,
      "max_height": null,
      "max_width": null,
      "min_height": null,
      "min_width": null,
      "object_fit": null,
      "object_position": null,
      "order": null,
      "overflow": null,
      "overflow_x": null,
      "overflow_y": null,
      "padding": null,
      "right": null,
      "top": null,
      "visibility": null,
      "width": null
     }
    },
    "ed8513ab10d342daab71697bb8b580f3": {
     "model_module": "@jupyter-widgets/controls",
     "model_module_version": "1.5.0",
     "model_name": "ProgressStyleModel",
     "state": {
      "_model_module": "@jupyter-widgets/controls",
      "_model_module_version": "1.5.0",
      "_model_name": "ProgressStyleModel",
      "_view_count": null,
      "_view_module": "@jupyter-widgets/base",
      "_view_module_version": "1.2.0",
      "_view_name": "StyleView",
      "bar_color": null,
      "description_width": ""
     }
    },
    "f01186f6ccea45e6a85d3491903d265f": {
     "model_module": "@jupyter-widgets/base",
     "model_module_version": "1.2.0",
     "model_name": "LayoutModel",
     "state": {
      "_model_module": "@jupyter-widgets/base",
      "_model_module_version": "1.2.0",
      "_model_name": "LayoutModel",
      "_view_count": null,
      "_view_module": "@jupyter-widgets/base",
      "_view_module_version": "1.2.0",
      "_view_name": "LayoutView",
      "align_content": null,
      "align_items": null,
      "align_self": null,
      "border": null,
      "bottom": null,
      "display": null,
      "flex": null,
      "flex_flow": null,
      "grid_area": null,
      "grid_auto_columns": null,
      "grid_auto_flow": null,
      "grid_auto_rows": null,
      "grid_column": null,
      "grid_gap": null,
      "grid_row": null,
      "grid_template_areas": null,
      "grid_template_columns": null,
      "grid_template_rows": null,
      "height": null,
      "justify_content": null,
      "justify_items": null,
      "left": null,
      "margin": null,
      "max_height": null,
      "max_width": null,
      "min_height": null,
      "min_width": null,
      "object_fit": null,
      "object_position": null,
      "order": null,
      "overflow": null,
      "overflow_x": null,
      "overflow_y": null,
      "padding": null,
      "right": null,
      "top": null,
      "visibility": null,
      "width": null
     }
    },
    "f3673eff9982438f8bcb8ef24525b741": {
     "model_module": "@jupyter-widgets/base",
     "model_module_version": "1.2.0",
     "model_name": "LayoutModel",
     "state": {
      "_model_module": "@jupyter-widgets/base",
      "_model_module_version": "1.2.0",
      "_model_name": "LayoutModel",
      "_view_count": null,
      "_view_module": "@jupyter-widgets/base",
      "_view_module_version": "1.2.0",
      "_view_name": "LayoutView",
      "align_content": null,
      "align_items": null,
      "align_self": null,
      "border": null,
      "bottom": null,
      "display": null,
      "flex": null,
      "flex_flow": null,
      "grid_area": null,
      "grid_auto_columns": null,
      "grid_auto_flow": null,
      "grid_auto_rows": null,
      "grid_column": null,
      "grid_gap": null,
      "grid_row": null,
      "grid_template_areas": null,
      "grid_template_columns": null,
      "grid_template_rows": null,
      "height": null,
      "justify_content": null,
      "justify_items": null,
      "left": null,
      "margin": null,
      "max_height": null,
      "max_width": null,
      "min_height": null,
      "min_width": null,
      "object_fit": null,
      "object_position": null,
      "order": null,
      "overflow": null,
      "overflow_x": null,
      "overflow_y": null,
      "padding": null,
      "right": null,
      "top": null,
      "visibility": null,
      "width": null
     }
    },
    "f399d7adaec240fb9a5acbf5576dad92": {
     "model_module": "@jupyter-widgets/base",
     "model_module_version": "1.2.0",
     "model_name": "LayoutModel",
     "state": {
      "_model_module": "@jupyter-widgets/base",
      "_model_module_version": "1.2.0",
      "_model_name": "LayoutModel",
      "_view_count": null,
      "_view_module": "@jupyter-widgets/base",
      "_view_module_version": "1.2.0",
      "_view_name": "LayoutView",
      "align_content": null,
      "align_items": null,
      "align_self": null,
      "border": null,
      "bottom": null,
      "display": null,
      "flex": null,
      "flex_flow": null,
      "grid_area": null,
      "grid_auto_columns": null,
      "grid_auto_flow": null,
      "grid_auto_rows": null,
      "grid_column": null,
      "grid_gap": null,
      "grid_row": null,
      "grid_template_areas": null,
      "grid_template_columns": null,
      "grid_template_rows": null,
      "height": null,
      "justify_content": null,
      "justify_items": null,
      "left": null,
      "margin": null,
      "max_height": null,
      "max_width": null,
      "min_height": null,
      "min_width": null,
      "object_fit": null,
      "object_position": null,
      "order": null,
      "overflow": null,
      "overflow_x": null,
      "overflow_y": null,
      "padding": null,
      "right": null,
      "top": null,
      "visibility": null,
      "width": null
     }
    },
    "f745cb78404a46129d60dceeb216cf3a": {
     "model_module": "@jupyter-widgets/controls",
     "model_module_version": "1.5.0",
     "model_name": "HTMLModel",
     "state": {
      "_dom_classes": [],
      "_model_module": "@jupyter-widgets/controls",
      "_model_module_version": "1.5.0",
      "_model_name": "HTMLModel",
      "_view_count": null,
      "_view_module": "@jupyter-widgets/controls",
      "_view_module_version": "1.5.0",
      "_view_name": "HTMLView",
      "description": "",
      "description_tooltip": null,
      "layout": "IPY_MODEL_f01186f6ccea45e6a85d3491903d265f",
      "placeholder": "​",
      "style": "IPY_MODEL_de0f1e72b086456fa7b574c618be3de1",
      "value": "Map: 100%"
     }
    },
    "f8eed16798dd4b1683b9fef380810337": {
     "model_module": "@jupyter-widgets/controls",
     "model_module_version": "1.5.0",
     "model_name": "HTMLModel",
     "state": {
      "_dom_classes": [],
      "_model_module": "@jupyter-widgets/controls",
      "_model_module_version": "1.5.0",
      "_model_name": "HTMLModel",
      "_view_count": null,
      "_view_module": "@jupyter-widgets/controls",
      "_view_module_version": "1.5.0",
      "_view_name": "HTMLView",
      "description": "",
      "description_tooltip": null,
      "layout": "IPY_MODEL_836482c330db4a88acee7c8e94eb6100",
      "placeholder": "​",
      "style": "IPY_MODEL_16659ab3b5cc40638312cda2c2e08b01",
      "value": " 1000/1000 [00:02&lt;00:00, 446.97 examples/s]"
     }
    }
   }
  }
 },
 "nbformat": 4,
 "nbformat_minor": 0
}
